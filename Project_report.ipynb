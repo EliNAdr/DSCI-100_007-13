{
 "cells": [
  {
   "cell_type": "markdown",
   "id": "e13be0ba-7433-4320-a19f-5d9600065632",
   "metadata": {},
   "source": [
    "**Title**"
   ]
  },
  {
   "cell_type": "markdown",
   "id": "ba4e9e37-2f40-4f77-af29-f06964b066d0",
   "metadata": {},
   "source": [
    "**Introduction**"
   ]
  },
  {
   "cell_type": "markdown",
   "id": "1f2ed55e-e0db-41ad-b7ad-b51d76f0fbac",
   "metadata": {},
   "source": [
    "**Methods & Results**"
   ]
  },
  {
   "cell_type": "code",
   "execution_count": 1,
   "id": "a21895af-697a-4c28-a4c2-0a2855e97bf0",
   "metadata": {},
   "outputs": [
    {
     "name": "stderr",
     "output_type": "stream",
     "text": [
      "── \u001b[1mAttaching packages\u001b[22m ─────────────────────────────────────── tidyverse 1.3.1 ──\n",
      "\n",
      "\u001b[32m✔\u001b[39m \u001b[34mggplot2\u001b[39m 3.3.6     \u001b[32m✔\u001b[39m \u001b[34mpurrr  \u001b[39m 0.3.4\n",
      "\u001b[32m✔\u001b[39m \u001b[34mtibble \u001b[39m 3.1.7     \u001b[32m✔\u001b[39m \u001b[34mdplyr  \u001b[39m 1.0.9\n",
      "\u001b[32m✔\u001b[39m \u001b[34mtidyr  \u001b[39m 1.2.0     \u001b[32m✔\u001b[39m \u001b[34mstringr\u001b[39m 1.4.0\n",
      "\u001b[32m✔\u001b[39m \u001b[34mreadr  \u001b[39m 2.1.2     \u001b[32m✔\u001b[39m \u001b[34mforcats\u001b[39m 0.5.1\n",
      "\n",
      "── \u001b[1mConflicts\u001b[22m ────────────────────────────────────────── tidyverse_conflicts() ──\n",
      "\u001b[31m✖\u001b[39m \u001b[34mdplyr\u001b[39m::\u001b[32mfilter()\u001b[39m masks \u001b[34mstats\u001b[39m::filter()\n",
      "\u001b[31m✖\u001b[39m \u001b[34mdplyr\u001b[39m::\u001b[32mlag()\u001b[39m    masks \u001b[34mstats\u001b[39m::lag()\n",
      "\n",
      "── \u001b[1mAttaching packages\u001b[22m ────────────────────────────────────── tidymodels 1.0.0 ──\n",
      "\n",
      "\u001b[32m✔\u001b[39m \u001b[34mbroom       \u001b[39m 1.0.0     \u001b[32m✔\u001b[39m \u001b[34mrsample     \u001b[39m 1.0.0\n",
      "\u001b[32m✔\u001b[39m \u001b[34mdials       \u001b[39m 1.0.0     \u001b[32m✔\u001b[39m \u001b[34mtune        \u001b[39m 1.0.0\n",
      "\u001b[32m✔\u001b[39m \u001b[34minfer       \u001b[39m 1.0.2     \u001b[32m✔\u001b[39m \u001b[34mworkflows   \u001b[39m 1.0.0\n",
      "\u001b[32m✔\u001b[39m \u001b[34mmodeldata   \u001b[39m 1.0.0     \u001b[32m✔\u001b[39m \u001b[34mworkflowsets\u001b[39m 1.0.0\n",
      "\u001b[32m✔\u001b[39m \u001b[34mparsnip     \u001b[39m 1.0.0     \u001b[32m✔\u001b[39m \u001b[34myardstick   \u001b[39m 1.0.0\n",
      "\u001b[32m✔\u001b[39m \u001b[34mrecipes     \u001b[39m 1.0.1     \n",
      "\n",
      "── \u001b[1mConflicts\u001b[22m ───────────────────────────────────────── tidymodels_conflicts() ──\n",
      "\u001b[31m✖\u001b[39m \u001b[34mscales\u001b[39m::\u001b[32mdiscard()\u001b[39m masks \u001b[34mpurrr\u001b[39m::discard()\n",
      "\u001b[31m✖\u001b[39m \u001b[34mdplyr\u001b[39m::\u001b[32mfilter()\u001b[39m   masks \u001b[34mstats\u001b[39m::filter()\n",
      "\u001b[31m✖\u001b[39m \u001b[34mrecipes\u001b[39m::\u001b[32mfixed()\u001b[39m  masks \u001b[34mstringr\u001b[39m::fixed()\n",
      "\u001b[31m✖\u001b[39m \u001b[34mdplyr\u001b[39m::\u001b[32mlag()\u001b[39m      masks \u001b[34mstats\u001b[39m::lag()\n",
      "\u001b[31m✖\u001b[39m \u001b[34myardstick\u001b[39m::\u001b[32mspec()\u001b[39m masks \u001b[34mreadr\u001b[39m::spec()\n",
      "\u001b[31m✖\u001b[39m \u001b[34mrecipes\u001b[39m::\u001b[32mstep()\u001b[39m   masks \u001b[34mstats\u001b[39m::step()\n",
      "\u001b[34m•\u001b[39m Learn how to get started at \u001b[32mhttps://www.tidymodels.org/start/\u001b[39m\n",
      "\n"
     ]
    }
   ],
   "source": [
    "options(repr.matrix.max.rows = 6)\n",
    "\n",
    "# loading libraries\n",
    "library(tidyverse)\n",
    "library(repr)\n",
    "library(tidymodels)"
   ]
  },
  {
   "cell_type": "code",
   "execution_count": 3,
   "id": "241ccf60-d0f8-4842-bc7c-a5aff0b98335",
   "metadata": {},
   "outputs": [
    {
     "name": "stderr",
     "output_type": "stream",
     "text": [
      "\u001b[1m\u001b[22mNew names:\n",
      "\u001b[36m•\u001b[39m `` -> `...1`\n"
     ]
    },
    {
     "data": {
      "text/html": [
       "<table class=\"dataframe\">\n",
       "<caption>A tibble: 6866 × 49</caption>\n",
       "<thead>\n",
       "\t<tr><th scope=col>tourney_id</th><th scope=col>tourney_name</th><th scope=col>surface</th><th scope=col>draw_size</th><th scope=col>tourney_level</th><th scope=col>tourney_date</th><th scope=col>match_num</th><th scope=col>winner_id</th><th scope=col>winner_seed</th><th scope=col>winner_entry</th><th scope=col>⋯</th><th scope=col>l_1stIn</th><th scope=col>l_1stWon</th><th scope=col>l_2ndWon</th><th scope=col>l_SvGms</th><th scope=col>l_bpSaved</th><th scope=col>l_bpFaced</th><th scope=col>winner_rank</th><th scope=col>winner_rank_points</th><th scope=col>loser_rank</th><th scope=col>loser_rank_points</th></tr>\n",
       "\t<tr><th scope=col>&lt;chr&gt;</th><th scope=col>&lt;chr&gt;</th><th scope=col>&lt;chr&gt;</th><th scope=col>&lt;dbl&gt;</th><th scope=col>&lt;chr&gt;</th><th scope=col>&lt;dbl&gt;</th><th scope=col>&lt;dbl&gt;</th><th scope=col>&lt;dbl&gt;</th><th scope=col>&lt;chr&gt;</th><th scope=col>&lt;chr&gt;</th><th scope=col>⋯</th><th scope=col>&lt;dbl&gt;</th><th scope=col>&lt;dbl&gt;</th><th scope=col>&lt;dbl&gt;</th><th scope=col>&lt;dbl&gt;</th><th scope=col>&lt;dbl&gt;</th><th scope=col>&lt;dbl&gt;</th><th scope=col>&lt;dbl&gt;</th><th scope=col>&lt;dbl&gt;</th><th scope=col>&lt;dbl&gt;</th><th scope=col>&lt;dbl&gt;</th></tr>\n",
       "</thead>\n",
       "<tbody>\n",
       "\t<tr><td>2019-M020</td><td>Brisbane</td><td>Hard</td><td>32</td><td>A</td><td>20181231</td><td>300</td><td>105453</td><td>2</td><td>NA</td><td>⋯</td><td>54</td><td>34</td><td>20</td><td>14</td><td>10</td><td>15</td><td> 9</td><td>3590</td><td> 16</td><td>1977</td></tr>\n",
       "\t<tr><td>2019-M020</td><td>Brisbane</td><td>Hard</td><td>32</td><td>A</td><td>20181231</td><td>299</td><td>106421</td><td>4</td><td>NA</td><td>⋯</td><td>52</td><td>36</td><td> 7</td><td>10</td><td>10</td><td>13</td><td>16</td><td>1977</td><td>239</td><td> 200</td></tr>\n",
       "\t<tr><td>2019-M020</td><td>Brisbane</td><td>Hard</td><td>32</td><td>A</td><td>20181231</td><td>298</td><td>105453</td><td>2</td><td>NA</td><td>⋯</td><td>27</td><td>15</td><td> 6</td><td> 8</td><td> 1</td><td> 5</td><td> 9</td><td>3590</td><td> 40</td><td>1050</td></tr>\n",
       "\t<tr><td>⋮</td><td>⋮</td><td>⋮</td><td>⋮</td><td>⋮</td><td>⋮</td><td>⋮</td><td>⋮</td><td>⋮</td><td>⋮</td><td>⋱</td><td>⋮</td><td>⋮</td><td>⋮</td><td>⋮</td><td>⋮</td><td>⋮</td><td>⋮</td><td>⋮</td><td>⋮</td><td>⋮</td></tr>\n",
       "\t<tr><td>2017-M-DC-2017-WG-M-BEL-FRA-01</td><td>Davis Cup WG F: BEL vs FRA</td><td>Hard</td><td>4</td><td>D</td><td>20171124</td><td>2</td><td>104542</td><td>NA</td><td>NA</td><td>⋯</td><td>54</td><td>30</td><td>12</td><td>12</td><td>5</td><td>11</td><td>15</td><td>2320</td><td>76</td><td> 667</td></tr>\n",
       "\t<tr><td>2017-M-DC-2017-WG-M-BEL-FRA-01</td><td>Davis Cup WG F: BEL vs FRA</td><td>Hard</td><td>4</td><td>D</td><td>20171124</td><td>4</td><td>105676</td><td>NA</td><td>NA</td><td>⋯</td><td>54</td><td>44</td><td>13</td><td>14</td><td>7</td><td>10</td><td> 7</td><td>3775</td><td>15</td><td>2320</td></tr>\n",
       "\t<tr><td>2017-M-DC-2017-WG-M-BEL-FRA-01</td><td>Davis Cup WG F: BEL vs FRA</td><td>Hard</td><td>4</td><td>D</td><td>20171124</td><td>5</td><td>106298</td><td>NA</td><td>NA</td><td>⋯</td><td>53</td><td>29</td><td>11</td><td>11</td><td>4</td><td>11</td><td>18</td><td>2235</td><td>76</td><td> 667</td></tr>\n",
       "</tbody>\n",
       "</table>\n"
      ],
      "text/latex": [
       "A tibble: 6866 × 49\n",
       "\\begin{tabular}{lllllllllllllllllllll}\n",
       " tourney\\_id & tourney\\_name & surface & draw\\_size & tourney\\_level & tourney\\_date & match\\_num & winner\\_id & winner\\_seed & winner\\_entry & ⋯ & l\\_1stIn & l\\_1stWon & l\\_2ndWon & l\\_SvGms & l\\_bpSaved & l\\_bpFaced & winner\\_rank & winner\\_rank\\_points & loser\\_rank & loser\\_rank\\_points\\\\\n",
       " <chr> & <chr> & <chr> & <dbl> & <chr> & <dbl> & <dbl> & <dbl> & <chr> & <chr> & ⋯ & <dbl> & <dbl> & <dbl> & <dbl> & <dbl> & <dbl> & <dbl> & <dbl> & <dbl> & <dbl>\\\\\n",
       "\\hline\n",
       "\t 2019-M020 & Brisbane & Hard & 32 & A & 20181231 & 300 & 105453 & 2 & NA & ⋯ & 54 & 34 & 20 & 14 & 10 & 15 &  9 & 3590 &  16 & 1977\\\\\n",
       "\t 2019-M020 & Brisbane & Hard & 32 & A & 20181231 & 299 & 106421 & 4 & NA & ⋯ & 52 & 36 &  7 & 10 & 10 & 13 & 16 & 1977 & 239 &  200\\\\\n",
       "\t 2019-M020 & Brisbane & Hard & 32 & A & 20181231 & 298 & 105453 & 2 & NA & ⋯ & 27 & 15 &  6 &  8 &  1 &  5 &  9 & 3590 &  40 & 1050\\\\\n",
       "\t ⋮ & ⋮ & ⋮ & ⋮ & ⋮ & ⋮ & ⋮ & ⋮ & ⋮ & ⋮ & ⋱ & ⋮ & ⋮ & ⋮ & ⋮ & ⋮ & ⋮ & ⋮ & ⋮ & ⋮ & ⋮\\\\\n",
       "\t 2017-M-DC-2017-WG-M-BEL-FRA-01 & Davis Cup WG F: BEL vs FRA & Hard & 4 & D & 20171124 & 2 & 104542 & NA & NA & ⋯ & 54 & 30 & 12 & 12 & 5 & 11 & 15 & 2320 & 76 &  667\\\\\n",
       "\t 2017-M-DC-2017-WG-M-BEL-FRA-01 & Davis Cup WG F: BEL vs FRA & Hard & 4 & D & 20171124 & 4 & 105676 & NA & NA & ⋯ & 54 & 44 & 13 & 14 & 7 & 10 &  7 & 3775 & 15 & 2320\\\\\n",
       "\t 2017-M-DC-2017-WG-M-BEL-FRA-01 & Davis Cup WG F: BEL vs FRA & Hard & 4 & D & 20171124 & 5 & 106298 & NA & NA & ⋯ & 53 & 29 & 11 & 11 & 4 & 11 & 18 & 2235 & 76 &  667\\\\\n",
       "\\end{tabular}\n"
      ],
      "text/markdown": [
       "\n",
       "A tibble: 6866 × 49\n",
       "\n",
       "| tourney_id &lt;chr&gt; | tourney_name &lt;chr&gt; | surface &lt;chr&gt; | draw_size &lt;dbl&gt; | tourney_level &lt;chr&gt; | tourney_date &lt;dbl&gt; | match_num &lt;dbl&gt; | winner_id &lt;dbl&gt; | winner_seed &lt;chr&gt; | winner_entry &lt;chr&gt; | ⋯ ⋯ | l_1stIn &lt;dbl&gt; | l_1stWon &lt;dbl&gt; | l_2ndWon &lt;dbl&gt; | l_SvGms &lt;dbl&gt; | l_bpSaved &lt;dbl&gt; | l_bpFaced &lt;dbl&gt; | winner_rank &lt;dbl&gt; | winner_rank_points &lt;dbl&gt; | loser_rank &lt;dbl&gt; | loser_rank_points &lt;dbl&gt; |\n",
       "|---|---|---|---|---|---|---|---|---|---|---|---|---|---|---|---|---|---|---|---|---|\n",
       "| 2019-M020 | Brisbane | Hard | 32 | A | 20181231 | 300 | 105453 | 2 | NA | ⋯ | 54 | 34 | 20 | 14 | 10 | 15 |  9 | 3590 |  16 | 1977 |\n",
       "| 2019-M020 | Brisbane | Hard | 32 | A | 20181231 | 299 | 106421 | 4 | NA | ⋯ | 52 | 36 |  7 | 10 | 10 | 13 | 16 | 1977 | 239 |  200 |\n",
       "| 2019-M020 | Brisbane | Hard | 32 | A | 20181231 | 298 | 105453 | 2 | NA | ⋯ | 27 | 15 |  6 |  8 |  1 |  5 |  9 | 3590 |  40 | 1050 |\n",
       "| ⋮ | ⋮ | ⋮ | ⋮ | ⋮ | ⋮ | ⋮ | ⋮ | ⋮ | ⋮ | ⋱ | ⋮ | ⋮ | ⋮ | ⋮ | ⋮ | ⋮ | ⋮ | ⋮ | ⋮ | ⋮ |\n",
       "| 2017-M-DC-2017-WG-M-BEL-FRA-01 | Davis Cup WG F: BEL vs FRA | Hard | 4 | D | 20171124 | 2 | 104542 | NA | NA | ⋯ | 54 | 30 | 12 | 12 | 5 | 11 | 15 | 2320 | 76 |  667 |\n",
       "| 2017-M-DC-2017-WG-M-BEL-FRA-01 | Davis Cup WG F: BEL vs FRA | Hard | 4 | D | 20171124 | 4 | 105676 | NA | NA | ⋯ | 54 | 44 | 13 | 14 | 7 | 10 |  7 | 3775 | 15 | 2320 |\n",
       "| 2017-M-DC-2017-WG-M-BEL-FRA-01 | Davis Cup WG F: BEL vs FRA | Hard | 4 | D | 20171124 | 5 | 106298 | NA | NA | ⋯ | 53 | 29 | 11 | 11 | 4 | 11 | 18 | 2235 | 76 |  667 |\n",
       "\n"
      ],
      "text/plain": [
       "     tourney_id                     tourney_name               surface\n",
       "1    2019-M020                      Brisbane                   Hard   \n",
       "2    2019-M020                      Brisbane                   Hard   \n",
       "3    2019-M020                      Brisbane                   Hard   \n",
       "⋮    ⋮                              ⋮                          ⋮      \n",
       "6864 2017-M-DC-2017-WG-M-BEL-FRA-01 Davis Cup WG F: BEL vs FRA Hard   \n",
       "6865 2017-M-DC-2017-WG-M-BEL-FRA-01 Davis Cup WG F: BEL vs FRA Hard   \n",
       "6866 2017-M-DC-2017-WG-M-BEL-FRA-01 Davis Cup WG F: BEL vs FRA Hard   \n",
       "     draw_size tourney_level tourney_date match_num winner_id winner_seed\n",
       "1    32        A             20181231     300       105453    2          \n",
       "2    32        A             20181231     299       106421    4          \n",
       "3    32        A             20181231     298       105453    2          \n",
       "⋮    ⋮         ⋮             ⋮            ⋮         ⋮         ⋮          \n",
       "6864 4         D             20171124     2         104542    NA         \n",
       "6865 4         D             20171124     4         105676    NA         \n",
       "6866 4         D             20171124     5         106298    NA         \n",
       "     winner_entry ⋯ l_1stIn l_1stWon l_2ndWon l_SvGms l_bpSaved l_bpFaced\n",
       "1    NA           ⋯ 54      34       20       14      10        15       \n",
       "2    NA           ⋯ 52      36        7       10      10        13       \n",
       "3    NA           ⋯ 27      15        6        8       1         5       \n",
       "⋮    ⋮            ⋱ ⋮       ⋮        ⋮        ⋮       ⋮         ⋮        \n",
       "6864 NA           ⋯ 54      30       12       12      5         11       \n",
       "6865 NA           ⋯ 54      44       13       14      7         10       \n",
       "6866 NA           ⋯ 53      29       11       11      4         11       \n",
       "     winner_rank winner_rank_points loser_rank loser_rank_points\n",
       "1     9          3590                16        1977             \n",
       "2    16          1977               239         200             \n",
       "3     9          3590                40        1050             \n",
       "⋮    ⋮           ⋮                  ⋮          ⋮                \n",
       "6864 15          2320               76          667             \n",
       "6865  7          3775               15         2320             \n",
       "6866 18          2235               76          667             "
      ]
     },
     "metadata": {},
     "output_type": "display_data"
    }
   ],
   "source": [
    "# loading the data from the web\n",
    "tennis_data <- read_csv(\"https://drive.google.com/uc?export=download&id=1fOQ8sy_qMkQiQEAO6uFdRX4tLI8EpSTn\", show_col_types = FALSE) |> \n",
    "    select(-...1)\n",
    "tennis_data"
   ]
  },
  {
   "cell_type": "code",
   "execution_count": 5,
   "id": "ef4b33cb-a1eb-4f0a-9e6c-46bb27e5c200",
   "metadata": {},
   "outputs": [
    {
     "data": {
      "text/html": [
       "<table class=\"dataframe\">\n",
       "<caption>A tibble: 5733 × 4</caption>\n",
       "<thead>\n",
       "\t<tr><th scope=col>rank_points</th><th scope=col>height</th><th scope=col>double_faults</th><th scope=col>bpratio</th></tr>\n",
       "\t<tr><th scope=col>&lt;dbl&gt;</th><th scope=col>&lt;dbl&gt;</th><th scope=col>&lt;dbl&gt;</th><th scope=col>&lt;dbl&gt;</th></tr>\n",
       "</thead>\n",
       "<tbody>\n",
       "\t<tr><td>200</td><td>188</td><td>2</td><td>0.8000000</td></tr>\n",
       "\t<tr><td>200</td><td>188</td><td>3</td><td>0.5714286</td></tr>\n",
       "\t<tr><td>200</td><td>188</td><td>1</td><td>0.6666667</td></tr>\n",
       "\t<tr><td>⋮</td><td>⋮</td><td>⋮</td><td>⋮</td></tr>\n",
       "\t<tr><td>2975</td><td>163</td><td>5</td><td>0.7333333</td></tr>\n",
       "\t<tr><td>2235</td><td>185</td><td>2</td><td>0.5454545</td></tr>\n",
       "\t<tr><td>2320</td><td>188</td><td>3</td><td>0.7000000</td></tr>\n",
       "</tbody>\n",
       "</table>\n"
      ],
      "text/latex": [
       "A tibble: 5733 × 4\n",
       "\\begin{tabular}{llll}\n",
       " rank\\_points & height & double\\_faults & bpratio\\\\\n",
       " <dbl> & <dbl> & <dbl> & <dbl>\\\\\n",
       "\\hline\n",
       "\t 200 & 188 & 2 & 0.8000000\\\\\n",
       "\t 200 & 188 & 3 & 0.5714286\\\\\n",
       "\t 200 & 188 & 1 & 0.6666667\\\\\n",
       "\t ⋮ & ⋮ & ⋮ & ⋮\\\\\n",
       "\t 2975 & 163 & 5 & 0.7333333\\\\\n",
       "\t 2235 & 185 & 2 & 0.5454545\\\\\n",
       "\t 2320 & 188 & 3 & 0.7000000\\\\\n",
       "\\end{tabular}\n"
      ],
      "text/markdown": [
       "\n",
       "A tibble: 5733 × 4\n",
       "\n",
       "| rank_points &lt;dbl&gt; | height &lt;dbl&gt; | double_faults &lt;dbl&gt; | bpratio &lt;dbl&gt; |\n",
       "|---|---|---|---|\n",
       "| 200 | 188 | 2 | 0.8000000 |\n",
       "| 200 | 188 | 3 | 0.5714286 |\n",
       "| 200 | 188 | 1 | 0.6666667 |\n",
       "| ⋮ | ⋮ | ⋮ | ⋮ |\n",
       "| 2975 | 163 | 5 | 0.7333333 |\n",
       "| 2235 | 185 | 2 | 0.5454545 |\n",
       "| 2320 | 188 | 3 | 0.7000000 |\n",
       "\n"
      ],
      "text/plain": [
       "     rank_points height double_faults bpratio  \n",
       "1    200         188    2             0.8000000\n",
       "2    200         188    3             0.5714286\n",
       "3    200         188    1             0.6666667\n",
       "⋮    ⋮           ⋮      ⋮             ⋮        \n",
       "5731 2975        163    5             0.7333333\n",
       "5732 2235        185    2             0.5454545\n",
       "5733 2320        188    3             0.7000000"
      ]
     },
     "metadata": {},
     "output_type": "display_data"
    }
   ],
   "source": [
    "set.seed(2132)\n",
    "# wrangling and cleaning data\n",
    "# selecting relevant data from each player category (winners & losers), filtering observations, creating new variables, and renaming variables\n",
    "winner_data <- tennis_data |> select(winner_rank_points, winner_ht, w_df, w_bpSaved, w_bpFaced) |> # selecting relevant variables\n",
    "    filter(w_bpSaved != 0) |> filter(w_bpFaced != 0) |> mutate(bpratio = w_bpSaved/w_bpFaced) |> na.omit() |> # creating new variable bpratio \n",
    "    rename(rank_points = winner_rank_points, height = winner_ht, double_faults = w_df) |> # renaming variables\n",
    "    select(-w_bpSaved, -w_bpFaced) # removing now-unnecessary variables\n",
    "\n",
    "loser_data <- tennis_data |> select(loser_rank_points, loser_ht, l_df, l_bpSaved, l_bpFaced) |> # selecting relevant variables\n",
    "    filter(l_bpSaved != 0) |> filter(l_bpFaced != 0) |> mutate(bpratio = l_bpSaved/l_bpFaced) |> na.omit() |> # creating new variable bpratio\n",
    "    rename(rank_points = loser_rank_points, height = loser_ht, double_faults = l_df) |> # renaming variables\n",
    "    select(-l_bpSaved, -l_bpFaced) # removing now-unnecessary variables\n",
    "\n",
    "# combining losing and winning players' data into one dataframe\n",
    "player_data <- rbind(winner_data, loser_data)\n",
    "\n",
    "# splitting the data into training and testing\n",
    "player_split <- initial_split(player_data, prop = .75, strata = rank_points)  \n",
    "player_train <- training(player_split)\n",
    "player_test <- testing(player_split)\n",
    "\n",
    "player_train"
   ]
  },
  {
   "cell_type": "code",
   "execution_count": null,
   "id": "d4133ab4-8d75-44bb-bbce-0827174e3c44",
   "metadata": {},
   "outputs": [],
   "source": [
    "# data exposition\n"
   ]
  },
  {
   "cell_type": "code",
   "execution_count": null,
   "id": "94fe8317-7b1f-4dc7-b17c-6c2f8c4df6c6",
   "metadata": {},
   "outputs": [],
   "source": [
    "# data visualization\n"
   ]
  },
  {
   "cell_type": "code",
   "execution_count": null,
   "id": "23d12a52-4e6f-44bc-98ca-32dfdcf9e7a4",
   "metadata": {},
   "outputs": [],
   "source": [
    "# data analysis (knn regression)\n"
   ]
  },
  {
   "cell_type": "code",
   "execution_count": null,
   "id": "30dbeaa1-692c-4cc0-997a-a7251b033b25",
   "metadata": {},
   "outputs": [],
   "source": [
    "# data analysis (linear regression)\n"
   ]
  },
  {
   "cell_type": "code",
   "execution_count": null,
   "id": "59581f87-321a-48c6-a531-969f4a39fbdb",
   "metadata": {},
   "outputs": [],
   "source": [
    "# analysis visualization (knn & linear)"
   ]
  },
  {
   "cell_type": "markdown",
   "id": "db284f72-3d50-4eac-9771-05c376f4ba65",
   "metadata": {},
   "source": [
    "**Discussion**"
   ]
  },
  {
   "cell_type": "markdown",
   "id": "8b193bcc-61e0-4a1a-b8de-d740bc21a075",
   "metadata": {},
   "source": [
    "**References**"
   ]
  }
 ],
 "metadata": {
  "kernelspec": {
   "display_name": "R",
   "language": "R",
   "name": "ir"
  },
  "language_info": {
   "codemirror_mode": "r",
   "file_extension": ".r",
   "mimetype": "text/x-r-source",
   "name": "R",
   "pygments_lexer": "r",
   "version": "4.1.3"
  }
 },
 "nbformat": 4,
 "nbformat_minor": 5
}
