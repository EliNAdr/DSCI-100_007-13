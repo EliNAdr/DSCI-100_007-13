{
 "cells": [
  {
   "cell_type": "markdown",
   "id": "d1ffc54f-a2b0-4630-a143-b83f5272abfc",
   "metadata": {},
   "source": [
    "**Group 007-13 Project Proposal**"
   ]
  },
  {
   "cell_type": "markdown",
   "id": "c38fc5ad-cd26-4e48-8a5c-372297ce64db",
   "metadata": {},
   "source": [
    "**Introduction**\n",
    "The data set we chose is a tennis data set. We chose to keep specific columns in order to remove irrelevant data and keep the most important columns. We decided to keep if they are right or left handed, their current ranking, the player's name, their backhand throw, their current elo rank, and their prize money. A player's current elo rank is an estimate of their strength and is affected by their wins and loses. We are wondering whether a players bankhand throw and whether they are left or right handed affects their overall success. We will evaluate this by using their backhand, handedness, current rank, and current elo rank. "
   ]
  },
  {
   "cell_type": "markdown",
   "id": "194582e9-ec16-4e06-afe8-20514e5b10e0",
   "metadata": {},
   "source": [
    "**Preliminary exploratory data analysis**\n",
    "*In code cells below, demonstrate that data can be read into R and then follow the instructions on Canvas*"
   ]
  },
  {
   "cell_type": "code",
   "execution_count": 9,
   "id": "ebcafed8-c464-474e-8293-62ebd84beba1",
   "metadata": {},
   "outputs": [
    {
     "name": "stderr",
     "output_type": "stream",
     "text": [
      "\u001b[1m\u001b[22mNew names:\n",
      "\u001b[36m•\u001b[39m `` -> `...1`\n",
      "\u001b[1mRows: \u001b[22m\u001b[34m500\u001b[39m \u001b[1mColumns: \u001b[22m\u001b[34m38\u001b[39m\n",
      "\u001b[36m──\u001b[39m \u001b[1mColumn specification\u001b[22m \u001b[36m────────────────────────────────────────────────────────\u001b[39m\n",
      "\u001b[1mDelimiter:\u001b[22m \",\"\n",
      "\u001b[31mchr\u001b[39m (25): Age, Country, Plays, Wikipedia, Current Rank, Best Rank, Name, Bac...\n",
      "\u001b[32mdbl\u001b[39m (13): ...1, Turned Pro, Seasons, Titles, Best Season, Retired, Masters, ...\n",
      "\n",
      "\u001b[36mℹ\u001b[39m Use `spec()` to retrieve the full column specification for this data.\n",
      "\u001b[36mℹ\u001b[39m Specify the column types or set `show_col_types = FALSE` to quiet this message.\n"
     ]
    },
    {
     "data": {
      "text/html": [
       "<table class=\"dataframe\">\n",
       "<caption>A tibble: 500 × 6</caption>\n",
       "<thead>\n",
       "\t<tr><th scope=col>handedness</th><th scope=col>current.rank</th><th scope=col>name</th><th scope=col>backhand</th><th scope=col>current.elo.rank</th><th scope=col>prize.money</th></tr>\n",
       "\t<tr><th scope=col>&lt;fct&gt;</th><th scope=col>&lt;chr&gt;</th><th scope=col>&lt;chr&gt;</th><th scope=col>&lt;fct&gt;</th><th scope=col>&lt;chr&gt;</th><th scope=col>&lt;chr&gt;</th></tr>\n",
       "</thead>\n",
       "<tbody>\n",
       "\t<tr><td>Right-handed</td><td>378 (97) </td><td>Oscar Jose Gutierrez</td><td>NA        </td><td>NA        </td><td>NA          </td></tr>\n",
       "\t<tr><td>Left-handed </td><td>326 (119)</td><td>Jack Draper         </td><td>Two-handed</td><td>NA        </td><td>$59,040     </td></tr>\n",
       "\t<tr><td>Right-handed</td><td>178 (280)</td><td>Lukas Lacko         </td><td>Two-handed</td><td>144 (1764)</td><td>US$3,261,567</td></tr>\n",
       "\t<tr><td>⋮</td><td>⋮</td><td>⋮</td><td>⋮</td><td>⋮</td><td>⋮</td></tr>\n",
       "\t<tr><td>Left-handed</td><td>495 (60)</td><td>Gijs Brouwer   </td><td>NA        </td><td>NA</td><td>NA     </td></tr>\n",
       "\t<tr><td>NA         </td><td>419 (81)</td><td>Vladyslav Orlov</td><td>NA        </td><td>NA</td><td>NA     </td></tr>\n",
       "\t<tr><td>Left-handed</td><td>451 (69)</td><td>Aziz Dougaz    </td><td>Two-handed</td><td>NA</td><td>$61,984</td></tr>\n",
       "</tbody>\n",
       "</table>\n"
      ],
      "text/latex": [
       "A tibble: 500 × 6\n",
       "\\begin{tabular}{llllll}\n",
       " handedness & current.rank & name & backhand & current.elo.rank & prize.money\\\\\n",
       " <fct> & <chr> & <chr> & <fct> & <chr> & <chr>\\\\\n",
       "\\hline\n",
       "\t Right-handed & 378 (97)  & Oscar Jose Gutierrez & NA         & NA         & NA          \\\\\n",
       "\t Left-handed  & 326 (119) & Jack Draper          & Two-handed & NA         & \\$59,040     \\\\\n",
       "\t Right-handed & 178 (280) & Lukas Lacko          & Two-handed & 144 (1764) & US\\$3,261,567\\\\\n",
       "\t ⋮ & ⋮ & ⋮ & ⋮ & ⋮ & ⋮\\\\\n",
       "\t Left-handed & 495 (60) & Gijs Brouwer    & NA         & NA & NA     \\\\\n",
       "\t NA          & 419 (81) & Vladyslav Orlov & NA         & NA & NA     \\\\\n",
       "\t Left-handed & 451 (69) & Aziz Dougaz     & Two-handed & NA & \\$61,984\\\\\n",
       "\\end{tabular}\n"
      ],
      "text/markdown": [
       "\n",
       "A tibble: 500 × 6\n",
       "\n",
       "| handedness &lt;fct&gt; | current.rank &lt;chr&gt; | name &lt;chr&gt; | backhand &lt;fct&gt; | current.elo.rank &lt;chr&gt; | prize.money &lt;chr&gt; |\n",
       "|---|---|---|---|---|---|\n",
       "| Right-handed | 378 (97)  | Oscar Jose Gutierrez | NA         | NA         | NA           |\n",
       "| Left-handed  | 326 (119) | Jack Draper          | Two-handed | NA         | $59,040      |\n",
       "| Right-handed | 178 (280) | Lukas Lacko          | Two-handed | 144 (1764) | US$3,261,567 |\n",
       "| ⋮ | ⋮ | ⋮ | ⋮ | ⋮ | ⋮ |\n",
       "| Left-handed | 495 (60) | Gijs Brouwer    | NA         | NA | NA      |\n",
       "| NA          | 419 (81) | Vladyslav Orlov | NA         | NA | NA      |\n",
       "| Left-handed | 451 (69) | Aziz Dougaz     | Two-handed | NA | $61,984 |\n",
       "\n"
      ],
      "text/plain": [
       "    handedness   current.rank name                 backhand   current.elo.rank\n",
       "1   Right-handed 378 (97)     Oscar Jose Gutierrez NA         NA              \n",
       "2   Left-handed  326 (119)    Jack Draper          Two-handed NA              \n",
       "3   Right-handed 178 (280)    Lukas Lacko          Two-handed 144 (1764)      \n",
       "⋮   ⋮            ⋮            ⋮                    ⋮          ⋮               \n",
       "498 Left-handed  495 (60)     Gijs Brouwer         NA         NA              \n",
       "499 NA           419 (81)     Vladyslav Orlov      NA         NA              \n",
       "500 Left-handed  451 (69)     Aziz Dougaz          Two-handed NA              \n",
       "    prize.money \n",
       "1   NA          \n",
       "2   $59,040     \n",
       "3   US$3,261,567\n",
       "⋮   ⋮           \n",
       "498 NA          \n",
       "499 NA          \n",
       "500 $61,984     "
      ]
     },
     "metadata": {},
     "output_type": "display_data"
    }
   ],
   "source": [
    "library(tidyverse)\n",
    "library(repr)\n",
    "library(tidymodels)\n",
    "options(repr.matrix.max.rows = 6)\n",
    "\n",
    "download.file(\"https://drive.google.com/uc?export=download&id=1_MECmUXZuuILYeEOfonSGqodW6qVdhsS\", \"tennis_data.csv\")\n",
    "tennis_data <- read_csv(\"tennis_data.csv\") |> \n",
    "    rename_all(make.names) |>  \n",
    "    rename_with(str_to_lower) |>\n",
    "    mutate(backhand = as_factor(backhand), handedness = as_factor(plays)) |>\n",
    "    select(handedness, current.rank, name, backhand, current.elo.rank, prize.money, country)\n",
    "tennis_data"
   ]
  },
  {
   "cell_type": "markdown",
   "id": "6be308a2-7bff-42e6-9b1f-8171b6f88579",
   "metadata": {},
   "source": [
    "**Methods**\n",
    "*Explain how you will conduct either your data analysis and which variables/columns you will use.\n",
    "Describe at least one way that you will visualize the results*"
   ]
  },
  {
   "cell_type": "markdown",
   "id": "02b799f8-4c88-4d2c-84f6-7ef39ac7daf3",
   "metadata": {},
   "source": [
    "**Expected outcomes and significance** *Answer questions on Canvas*"
   ]
  },
  {
   "cell_type": "code",
   "execution_count": null,
   "id": "649ce6ff-8933-4564-b2bf-b1a939611ffd",
   "metadata": {},
   "outputs": [],
   "source": []
  }
 ],
 "metadata": {
  "kernelspec": {
   "display_name": "R",
   "language": "R",
   "name": "ir"
  },
  "language_info": {
   "codemirror_mode": "r",
   "file_extension": ".r",
   "mimetype": "text/x-r-source",
   "name": "R",
   "pygments_lexer": "r",
   "version": "4.1.3"
  }
 },
 "nbformat": 4,
 "nbformat_minor": 5
}
