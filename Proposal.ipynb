{
 "cells": [
  {
   "cell_type": "markdown",
   "id": "d1ffc54f-a2b0-4630-a143-b83f5272abfc",
   "metadata": {},
   "source": [
    "**Group 007-13 Project Proposal**"
   ]
  },
  {
   "cell_type": "markdown",
   "id": "c38fc5ad-cd26-4e48-8a5c-372297ce64db",
   "metadata": {},
   "source": [
    "**Introduction**\n",
    "The data set we chose is a tennis data set. We chose to keep specific columns in order to remove irrelevant data and keep the most important columns. We decided to keep if they are right or left handed, their current ranking, the player's name, their backhand throw, their current elo rank, and their prize money. A player's current elo rank is an estimate of their strength and is affected by their wins and loses. We are wondering whether a players bankhand throw and whether they are left or right handed affects their overall success. We will evaluate this by using their backhand, handedness, current rank, and current elo rank. "
   ]
  },
  {
   "cell_type": "markdown",
   "id": "194582e9-ec16-4e06-afe8-20514e5b10e0",
   "metadata": {},
   "source": [
    "**Preliminary exploratory data analysis**\n",
    "*In code cells below, demonstrate that data can be read into R and then follow the instructions on Canvas*"
   ]
  },
  {
   "cell_type": "code",
   "execution_count": 1,
   "id": "dde6c19b-028e-471e-80a6-206989bdb132",
   "metadata": {},
   "outputs": [
    {
     "name": "stderr",
     "output_type": "stream",
     "text": [
      "── \u001b[1mAttaching packages\u001b[22m ─────────────────────────────────────── tidyverse 1.3.1 ──\n",
      "\n",
      "\u001b[32m✔\u001b[39m \u001b[34mggplot2\u001b[39m 3.3.6     \u001b[32m✔\u001b[39m \u001b[34mpurrr  \u001b[39m 0.3.4\n",
      "\u001b[32m✔\u001b[39m \u001b[34mtibble \u001b[39m 3.1.7     \u001b[32m✔\u001b[39m \u001b[34mdplyr  \u001b[39m 1.0.9\n",
      "\u001b[32m✔\u001b[39m \u001b[34mtidyr  \u001b[39m 1.2.0     \u001b[32m✔\u001b[39m \u001b[34mstringr\u001b[39m 1.4.0\n",
      "\u001b[32m✔\u001b[39m \u001b[34mreadr  \u001b[39m 2.1.2     \u001b[32m✔\u001b[39m \u001b[34mforcats\u001b[39m 0.5.1\n",
      "\n",
      "── \u001b[1mConflicts\u001b[22m ────────────────────────────────────────── tidyverse_conflicts() ──\n",
      "\u001b[31m✖\u001b[39m \u001b[34mdplyr\u001b[39m::\u001b[32mfilter()\u001b[39m masks \u001b[34mstats\u001b[39m::filter()\n",
      "\u001b[31m✖\u001b[39m \u001b[34mdplyr\u001b[39m::\u001b[32mlag()\u001b[39m    masks \u001b[34mstats\u001b[39m::lag()\n",
      "\n",
      "── \u001b[1mAttaching packages\u001b[22m ────────────────────────────────────── tidymodels 1.0.0 ──\n",
      "\n",
      "\u001b[32m✔\u001b[39m \u001b[34mbroom       \u001b[39m 1.0.0     \u001b[32m✔\u001b[39m \u001b[34mrsample     \u001b[39m 1.0.0\n",
      "\u001b[32m✔\u001b[39m \u001b[34mdials       \u001b[39m 1.0.0     \u001b[32m✔\u001b[39m \u001b[34mtune        \u001b[39m 1.0.0\n",
      "\u001b[32m✔\u001b[39m \u001b[34minfer       \u001b[39m 1.0.2     \u001b[32m✔\u001b[39m \u001b[34mworkflows   \u001b[39m 1.0.0\n",
      "\u001b[32m✔\u001b[39m \u001b[34mmodeldata   \u001b[39m 1.0.0     \u001b[32m✔\u001b[39m \u001b[34mworkflowsets\u001b[39m 1.0.0\n",
      "\u001b[32m✔\u001b[39m \u001b[34mparsnip     \u001b[39m 1.0.0     \u001b[32m✔\u001b[39m \u001b[34myardstick   \u001b[39m 1.0.0\n",
      "\u001b[32m✔\u001b[39m \u001b[34mrecipes     \u001b[39m 1.0.1     \n",
      "\n",
      "── \u001b[1mConflicts\u001b[22m ───────────────────────────────────────── tidymodels_conflicts() ──\n",
      "\u001b[31m✖\u001b[39m \u001b[34mscales\u001b[39m::\u001b[32mdiscard()\u001b[39m masks \u001b[34mpurrr\u001b[39m::discard()\n",
      "\u001b[31m✖\u001b[39m \u001b[34mdplyr\u001b[39m::\u001b[32mfilter()\u001b[39m   masks \u001b[34mstats\u001b[39m::filter()\n",
      "\u001b[31m✖\u001b[39m \u001b[34mrecipes\u001b[39m::\u001b[32mfixed()\u001b[39m  masks \u001b[34mstringr\u001b[39m::fixed()\n",
      "\u001b[31m✖\u001b[39m \u001b[34mdplyr\u001b[39m::\u001b[32mlag()\u001b[39m      masks \u001b[34mstats\u001b[39m::lag()\n",
      "\u001b[31m✖\u001b[39m \u001b[34myardstick\u001b[39m::\u001b[32mspec()\u001b[39m masks \u001b[34mreadr\u001b[39m::spec()\n",
      "\u001b[31m✖\u001b[39m \u001b[34mrecipes\u001b[39m::\u001b[32mstep()\u001b[39m   masks \u001b[34mstats\u001b[39m::step()\n",
      "\u001b[34m•\u001b[39m Use \u001b[32mtidymodels_prefer()\u001b[39m to resolve common conflicts.\n",
      "\n",
      "\u001b[1m\u001b[22mNew names:\n",
      "\u001b[36m•\u001b[39m `` -> `...1`\n"
     ]
    }
   ],
   "source": [
    "#prepping data\n",
    "\n",
    "set.seed(5555)\n",
    "library(tidyverse)\n",
    "library(repr)\n",
    "library(tidymodels)\n",
    "options(repr.matrix.max.rows = 6)\n",
    "\n",
    "download.file(\"https://drive.google.com/uc?export=download&id=1fOQ8sy_qMkQiQEAO6uFdRX4tLI8EpSTn\", \"tennis_data.csv\")\n",
    "tennis_data <- read_csv(\"tennis_data.csv\", show_col_types = FALSE)\n",
    "#tennis_data\n",
    "\n",
    "winner_data <- tennis_data |> select(winner_age, winner_ht, winner_rank_points) |> na.omit()\n",
    "loser_data <-  tennis_data |> select(loser_age, loser_ht, loser_rank_points) |> na.omit()\n",
    "\n",
    "winner_split <- initial_split(winner_data, prop = .75, strata = winner_rank_points)  \n",
    "winner_train <- training(winner_split)\n",
    "winner_test <- testing(winner_split)\n",
    "#winner_train\n",
    "\n",
    "loser_split <- initial_split(loser_data, prop = .75, strata = loser_rank_points)  \n",
    "loser_train <- training(loser_split)\n",
    "loser_test <- testing(loser_split)\n",
    "#loser_train\n",
    "\n",
    "win_age_plot <- ggplot(winner_train, aes(x = winner_age, y = winner_rank_points)) +\n",
    "    geom_point() +\n",
    "    labs(title = \"Age vs Rank Points\", x = \"Age\", y = \"Rank Points\")\n",
    "#win_age_plot\n",
    "\n",
    "lose_age_plot <- ggplot(loser_train, aes(x = loser_age, y = loser_rank_points)) +\n",
    "    geom_point() +\n",
    "    labs(title = \"Age vs Rank Points\", x = \"Age\", y = \"Rank Points\")\n",
    "#lose_age_plot\n",
    "\n",
    "win_height_plot <- ggplot(winner_train, aes(x = winner_ht, y = winner_rank_points)) +\n",
    "    geom_point() +\n",
    "    labs(title = \"Height vs Rank Points\", x = \"Height\", y = \"Rank Points\")\n",
    "#win_height_plot\n",
    "\n",
    "lose_height_plot <- ggplot(loser_train, aes(x = loser_ht, y = loser_rank_points)) +\n",
    "    geom_point() +\n",
    "    labs(title = \"Height vs Rank Points\", x = \"Height\", y = \"Rank Points\")\n",
    "#lose_height_plot"
   ]
  },
  {
   "cell_type": "code",
   "execution_count": 2,
   "id": "b8f96774-4e0d-45cc-9a4e-fc2867a34bf5",
   "metadata": {},
   "outputs": [
    {
     "data": {
      "text/html": [
       "<table class=\"dataframe\">\n",
       "<caption>A tibble: 1 × 7</caption>\n",
       "<thead>\n",
       "\t<tr><th scope=col>neighbors</th><th scope=col>.metric</th><th scope=col>.estimator</th><th scope=col>mean</th><th scope=col>n</th><th scope=col>std_err</th><th scope=col>.config</th></tr>\n",
       "\t<tr><th scope=col>&lt;dbl&gt;</th><th scope=col>&lt;chr&gt;</th><th scope=col>&lt;chr&gt;</th><th scope=col>&lt;dbl&gt;</th><th scope=col>&lt;int&gt;</th><th scope=col>&lt;dbl&gt;</th><th scope=col>&lt;chr&gt;</th></tr>\n",
       "</thead>\n",
       "<tbody>\n",
       "\t<tr><td>533</td><td>rmse</td><td>standard</td><td>2082.839</td><td>5</td><td>26.72798</td><td>Preprocessor1_Model05</td></tr>\n",
       "</tbody>\n",
       "</table>\n"
      ],
      "text/latex": [
       "A tibble: 1 × 7\n",
       "\\begin{tabular}{lllllll}\n",
       " neighbors & .metric & .estimator & mean & n & std\\_err & .config\\\\\n",
       " <dbl> & <chr> & <chr> & <dbl> & <int> & <dbl> & <chr>\\\\\n",
       "\\hline\n",
       "\t 533 & rmse & standard & 2082.839 & 5 & 26.72798 & Preprocessor1\\_Model05\\\\\n",
       "\\end{tabular}\n"
      ],
      "text/markdown": [
       "\n",
       "A tibble: 1 × 7\n",
       "\n",
       "| neighbors &lt;dbl&gt; | .metric &lt;chr&gt; | .estimator &lt;chr&gt; | mean &lt;dbl&gt; | n &lt;int&gt; | std_err &lt;dbl&gt; | .config &lt;chr&gt; |\n",
       "|---|---|---|---|---|---|---|\n",
       "| 533 | rmse | standard | 2082.839 | 5 | 26.72798 | Preprocessor1_Model05 |\n",
       "\n"
      ],
      "text/plain": [
       "  neighbors .metric .estimator mean     n std_err  .config              \n",
       "1 533       rmse    standard   2082.839 5 26.72798 Preprocessor1_Model05"
      ]
     },
     "metadata": {},
     "output_type": "display_data"
    },
    {
     "data": {
      "image/png": "[encoded data removed]",
      "text/plain": [
       "plot without title"
      ]
     },
     "metadata": {
      "image/png": {
       "height": 420,
       "width": 420
      }
     },
     "output_type": "display_data"
    }
   ],
   "source": [
    "#testing/tuning regression\n",
    "#k = 527 - v = 5 mean = 2080.262\n",
    "\n",
    "win_recipe <- recipe(winner_rank_points ~ winner_ht, data = winner_train) |>\n",
    "  step_scale(all_predictors()) |>\n",
    "  step_center(all_predictors())\n",
    "\n",
    "win_spec <- nearest_neighbor(weight_func = \"rectangular\", neighbors = tune()) |>\n",
    "  set_engine(\"kknn\") |>\n",
    "  set_mode(\"regression\")\n",
    "\n",
    "win_workflow <- workflow() |>\n",
    "  add_recipe(win_recipe) |>\n",
    "  add_model(win_spec)\n",
    "#win_workflow\n",
    "\n",
    "win_vfold <- vfold_cv(winner_train, v = 5, strata = winner_rank_points)\n",
    "\n",
    "gridvals <- tibble(neighbors = seq(from = 525, to = 575, by = 2))\n",
    "\n",
    "win_results <- win_workflow |>\n",
    "  tune_grid(resamples = win_vfold, grid = gridvals) |>\n",
    "  collect_metrics() |>\n",
    "  filter(.metric == \"rmse\")\n",
    "#win_results\n",
    "\n",
    "win_min <- win_results |>\n",
    "  filter(mean == min(mean))\n",
    "win_min\n",
    "\n",
    "k_selec <- ggplot(win_results, aes(x = neighbors, y = mean)) + geom_point() + geom_line()\n",
    "k_selec"
   ]
  },
  {
   "cell_type": "code",
   "execution_count": 7,
   "id": "5af18348-0710-4d32-a517-b64f735d742e",
   "metadata": {},
   "outputs": [
    {
     "data": {
      "text/html": [
       "<table class=\"dataframe\">\n",
       "<caption>A tibble: 1 × 7</caption>\n",
       "<thead>\n",
       "\t<tr><th scope=col>neighbors</th><th scope=col>.metric</th><th scope=col>.estimator</th><th scope=col>mean</th><th scope=col>n</th><th scope=col>std_err</th><th scope=col>.config</th></tr>\n",
       "\t<tr><th scope=col>&lt;dbl&gt;</th><th scope=col>&lt;chr&gt;</th><th scope=col>&lt;chr&gt;</th><th scope=col>&lt;dbl&gt;</th><th scope=col>&lt;int&gt;</th><th scope=col>&lt;dbl&gt;</th><th scope=col>&lt;chr&gt;</th></tr>\n",
       "</thead>\n",
       "<tbody>\n",
       "\t<tr><td>417</td><td>rmse</td><td>standard</td><td>1341.766</td><td>5</td><td>59.88494</td><td>Preprocessor1_Model08</td></tr>\n",
       "</tbody>\n",
       "</table>\n"
      ],
      "text/latex": [
       "A tibble: 1 × 7\n",
       "\\begin{tabular}{lllllll}\n",
       " neighbors & .metric & .estimator & mean & n & std\\_err & .config\\\\\n",
       " <dbl> & <chr> & <chr> & <dbl> & <int> & <dbl> & <chr>\\\\\n",
       "\\hline\n",
       "\t 417 & rmse & standard & 1341.766 & 5 & 59.88494 & Preprocessor1\\_Model08\\\\\n",
       "\\end{tabular}\n"
      ],
      "text/markdown": [
       "\n",
       "A tibble: 1 × 7\n",
       "\n",
       "| neighbors &lt;dbl&gt; | .metric &lt;chr&gt; | .estimator &lt;chr&gt; | mean &lt;dbl&gt; | n &lt;int&gt; | std_err &lt;dbl&gt; | .config &lt;chr&gt; |\n",
       "|---|---|---|---|---|---|---|\n",
       "| 417 | rmse | standard | 1341.766 | 5 | 59.88494 | Preprocessor1_Model08 |\n",
       "\n"
      ],
      "text/plain": [
       "  neighbors .metric .estimator mean     n std_err  .config              \n",
       "1 417       rmse    standard   1341.766 5 59.88494 Preprocessor1_Model08"
      ]
     },
     "metadata": {},
     "output_type": "display_data"
    },
    {
     "data": {
      "image/png": "[encoded data removed]",
      "text/plain": [
       "plot without title"
      ]
     },
     "metadata": {
      "image/png": {
       "height": 420,
       "width": 420
      }
     },
     "output_type": "display_data"
    }
   ],
   "source": [
    "# k = 417 - v = 5 - mean = 1341.766\n",
    "\n",
    "lose_recipe <- recipe(loser_rank_points ~ loser_ht, data = loser_train) |>\n",
    "  step_scale(all_predictors()) |>\n",
    "  step_center(all_predictors())\n",
    "\n",
    "lose_spec <- nearest_neighbor(weight_func = \"rectangular\", neighbors = tune()) |>\n",
    "  set_engine(\"kknn\") |>\n",
    "  set_mode(\"regression\")\n",
    "\n",
    "lose_workflow <- workflow() |>\n",
    "  add_recipe(lose_recipe) |>\n",
    "  add_model(lose_spec)\n",
    "#win_workflow\n",
    "\n",
    "lose_vfold <- vfold_cv(loser_train, v = 5, strata = loser_rank_points)\n",
    "\n",
    "gridvals <- tibble(neighbors = seq(from = 410, to = 420, by = 1))\n",
    "\n",
    "lose_results <- lose_workflow |>\n",
    "  tune_grid(resamples = lose_vfold, grid = gridvals) |>\n",
    "  collect_metrics() |>\n",
    "  filter(.metric == \"rmse\")\n",
    "#win_results\n",
    "\n",
    "lose_min <- lose_results |>\n",
    "  filter(mean == min(mean))\n",
    "lose_min\n",
    "\n",
    "k_selec <- ggplot(lose_results, aes(x = neighbors, y = mean)) + geom_point() + geom_line()\n",
    "k_selec"
   ]
  },
  {
   "cell_type": "markdown",
   "id": "6be308a2-7bff-42e6-9b1f-8171b6f88579",
   "metadata": {},
   "source": [
    "**Methods**\n",
    "*Explain how you will conduct either your data analysis and which variables/columns you will use.\n",
    "Describe at least one way that you will visualize the results*"
   ]
  },
  {
   "cell_type": "markdown",
   "id": "02b799f8-4c88-4d2c-84f6-7ef39ac7daf3",
   "metadata": {},
   "source": [
    "**Expected outcomes and significance** *Answer questions on Canvas*"
   ]
  },
  {
   "cell_type": "code",
   "execution_count": null,
   "id": "649ce6ff-8933-4564-b2bf-b1a939611ffd",
   "metadata": {},
   "outputs": [],
   "source": []
  }
 ],
 "metadata": {
  "kernelspec": {
   "display_name": "R",
   "language": "R",
   "name": "ir"
  },
  "language_info": {
   "codemirror_mode": "r",
   "file_extension": ".r",
   "mimetype": "text/x-r-source",
   "name": "R",
   "pygments_lexer": "r",
   "version": "4.1.3"
  }
 },
 "nbformat": 4,
 "nbformat_minor": 5
}
