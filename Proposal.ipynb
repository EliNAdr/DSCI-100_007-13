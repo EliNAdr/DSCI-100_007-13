{
 "cells": [
  {
   "cell_type": "markdown",
   "id": "d1ffc54f-a2b0-4630-a143-b83f5272abfc",
   "metadata": {},
   "source": [
    "**Group 007-13 Project Proposal**"
   ]
  },
  {
   "cell_type": "markdown",
   "id": "c38fc5ad-cd26-4e48-8a5c-372297ce64db",
   "metadata": {},
   "source": [
    "**Introduction**\n",
    "The data set we chose is a tennis data set. We chose to keep specific columns in order to remove irrelevant data and keep the most important columns. We decided to keep if they are right or left handed, their current ranking, the player's name, their backhand throw, their current elo rank, and their prize money. A player's current elo rank is an estimate of their strength and is affected by their wins and loses. We are wondering whether a players bankhand throw and whether they are left or right handed affects their overall success. We will evaluate this by using their backhand, handedness, current rank, and current elo rank. "
   ]
  },
  {
   "cell_type": "markdown",
   "id": "194582e9-ec16-4e06-afe8-20514e5b10e0",
   "metadata": {},
   "source": [
    "**Preliminary exploratory data analysis**\n",
    "*In code cells below, demonstrate that data can be read into R and then follow the instructions on Canvas*"
   ]
  },
  {
   "cell_type": "code",
   "execution_count": 10,
   "id": "dde6c19b-028e-471e-80a6-206989bdb132",
   "metadata": {},
   "outputs": [
    {
     "name": "stderr",
     "output_type": "stream",
     "text": [
      "\u001b[1m\u001b[22mNew names:\n",
      "\u001b[36m•\u001b[39m `` -> `...1`\n"
     ]
    },
    {
     "data": {
      "text/html": [
       "<table class=\"dataframe\">\n",
       "<caption>A tibble: 6866 × 9</caption>\n",
       "<thead>\n",
       "\t<tr><th scope=col>tourney_name</th><th scope=col>play_surface</th><th scope=col>winner_hand</th><th scope=col>winner_age</th><th scope=col>loser_hand</th><th scope=col>loser_age</th><th scope=col>minutes</th><th scope=col>winner_rank</th><th scope=col>loser_rank</th></tr>\n",
       "\t<tr><th scope=col>&lt;fct&gt;</th><th scope=col>&lt;fct&gt;</th><th scope=col>&lt;fct&gt;</th><th scope=col>&lt;dbl&gt;</th><th scope=col>&lt;fct&gt;</th><th scope=col>&lt;dbl&gt;</th><th scope=col>&lt;dbl&gt;</th><th scope=col>&lt;dbl&gt;</th><th scope=col>&lt;dbl&gt;</th></tr>\n",
       "</thead>\n",
       "<tbody>\n",
       "\t<tr><td>Brisbane</td><td>Hard</td><td>R</td><td>29.00479</td><td>R</td><td>22.88569</td><td>124</td><td> 9</td><td> 16</td></tr>\n",
       "\t<tr><td>Brisbane</td><td>Hard</td><td>R</td><td>22.88569</td><td>R</td><td>33.70568</td><td> 82</td><td>16</td><td>239</td></tr>\n",
       "\t<tr><td>Brisbane</td><td>Hard</td><td>R</td><td>29.00479</td><td>R</td><td>31.88227</td><td> 66</td><td> 9</td><td> 40</td></tr>\n",
       "\t<tr><td>⋮</td><td>⋮</td><td>⋮</td><td>⋮</td><td>⋮</td><td>⋮</td><td>⋮</td><td>⋮</td><td>⋮</td></tr>\n",
       "\t<tr><td>Davis Cup WG F: BEL vs FRA</td><td>Hard</td><td>R</td><td>32.59411</td><td>R</td><td>33.68925</td><td>106</td><td>15</td><td>76</td></tr>\n",
       "\t<tr><td>Davis Cup WG F: BEL vs FRA</td><td>Hard</td><td>R</td><td>26.95414</td><td>R</td><td>32.59411</td><td>164</td><td> 7</td><td>15</td></tr>\n",
       "\t<tr><td>Davis Cup WG F: BEL vs FRA</td><td>Hard</td><td>R</td><td>23.73990</td><td>R</td><td>33.68925</td><td> 94</td><td>18</td><td>76</td></tr>\n",
       "</tbody>\n",
       "</table>\n"
      ],
      "text/latex": [
       "A tibble: 6866 × 9\n",
       "\\begin{tabular}{lllllllll}\n",
       " tourney\\_name & play\\_surface & winner\\_hand & winner\\_age & loser\\_hand & loser\\_age & minutes & winner\\_rank & loser\\_rank\\\\\n",
       " <fct> & <fct> & <fct> & <dbl> & <fct> & <dbl> & <dbl> & <dbl> & <dbl>\\\\\n",
       "\\hline\n",
       "\t Brisbane & Hard & R & 29.00479 & R & 22.88569 & 124 &  9 &  16\\\\\n",
       "\t Brisbane & Hard & R & 22.88569 & R & 33.70568 &  82 & 16 & 239\\\\\n",
       "\t Brisbane & Hard & R & 29.00479 & R & 31.88227 &  66 &  9 &  40\\\\\n",
       "\t ⋮ & ⋮ & ⋮ & ⋮ & ⋮ & ⋮ & ⋮ & ⋮ & ⋮\\\\\n",
       "\t Davis Cup WG F: BEL vs FRA & Hard & R & 32.59411 & R & 33.68925 & 106 & 15 & 76\\\\\n",
       "\t Davis Cup WG F: BEL vs FRA & Hard & R & 26.95414 & R & 32.59411 & 164 &  7 & 15\\\\\n",
       "\t Davis Cup WG F: BEL vs FRA & Hard & R & 23.73990 & R & 33.68925 &  94 & 18 & 76\\\\\n",
       "\\end{tabular}\n"
      ],
      "text/markdown": [
       "\n",
       "A tibble: 6866 × 9\n",
       "\n",
       "| tourney_name &lt;fct&gt; | play_surface &lt;fct&gt; | winner_hand &lt;fct&gt; | winner_age &lt;dbl&gt; | loser_hand &lt;fct&gt; | loser_age &lt;dbl&gt; | minutes &lt;dbl&gt; | winner_rank &lt;dbl&gt; | loser_rank &lt;dbl&gt; |\n",
       "|---|---|---|---|---|---|---|---|---|\n",
       "| Brisbane | Hard | R | 29.00479 | R | 22.88569 | 124 |  9 |  16 |\n",
       "| Brisbane | Hard | R | 22.88569 | R | 33.70568 |  82 | 16 | 239 |\n",
       "| Brisbane | Hard | R | 29.00479 | R | 31.88227 |  66 |  9 |  40 |\n",
       "| ⋮ | ⋮ | ⋮ | ⋮ | ⋮ | ⋮ | ⋮ | ⋮ | ⋮ |\n",
       "| Davis Cup WG F: BEL vs FRA | Hard | R | 32.59411 | R | 33.68925 | 106 | 15 | 76 |\n",
       "| Davis Cup WG F: BEL vs FRA | Hard | R | 26.95414 | R | 32.59411 | 164 |  7 | 15 |\n",
       "| Davis Cup WG F: BEL vs FRA | Hard | R | 23.73990 | R | 33.68925 |  94 | 18 | 76 |\n",
       "\n"
      ],
      "text/plain": [
       "     tourney_name               play_surface winner_hand winner_age loser_hand\n",
       "1    Brisbane                   Hard         R           29.00479   R         \n",
       "2    Brisbane                   Hard         R           22.88569   R         \n",
       "3    Brisbane                   Hard         R           29.00479   R         \n",
       "⋮    ⋮                          ⋮            ⋮           ⋮          ⋮         \n",
       "6864 Davis Cup WG F: BEL vs FRA Hard         R           32.59411   R         \n",
       "6865 Davis Cup WG F: BEL vs FRA Hard         R           26.95414   R         \n",
       "6866 Davis Cup WG F: BEL vs FRA Hard         R           23.73990   R         \n",
       "     loser_age minutes winner_rank loser_rank\n",
       "1    22.88569  124      9           16       \n",
       "2    33.70568   82     16          239       \n",
       "3    31.88227   66      9           40       \n",
       "⋮    ⋮         ⋮       ⋮           ⋮         \n",
       "6864 33.68925  106     15          76        \n",
       "6865 32.59411  164      7          15        \n",
       "6866 33.68925   94     18          76        "
      ]
     },
     "metadata": {},
     "output_type": "display_data"
    },
    {
     "data": {
      "text/html": [
       "<table class=\"dataframe\">\n",
       "<caption>A tibble: 5149 × 9</caption>\n",
       "<thead>\n",
       "\t<tr><th scope=col>tourney_name</th><th scope=col>play_surface</th><th scope=col>winner_hand</th><th scope=col>winner_age</th><th scope=col>loser_hand</th><th scope=col>loser_age</th><th scope=col>minutes</th><th scope=col>winner_rank</th><th scope=col>loser_rank</th></tr>\n",
       "\t<tr><th scope=col>&lt;fct&gt;</th><th scope=col>&lt;fct&gt;</th><th scope=col>&lt;fct&gt;</th><th scope=col>&lt;dbl&gt;</th><th scope=col>&lt;fct&gt;</th><th scope=col>&lt;dbl&gt;</th><th scope=col>&lt;dbl&gt;</th><th scope=col>&lt;dbl&gt;</th><th scope=col>&lt;dbl&gt;</th></tr>\n",
       "</thead>\n",
       "<tbody>\n",
       "\t<tr><td>Davis Cup Finals RR: USA vs ITA</td><td>Hard</td><td>R</td><td>22.05613</td><td>R</td><td>23.60027</td><td>138</td><td>32</td><td> 8</td></tr>\n",
       "\t<tr><td>Indian Wells Masters           </td><td>Hard</td><td>L</td><td>27.41410</td><td>R</td><td>25.82615</td><td>143</td><td>67</td><td>54</td></tr>\n",
       "\t<tr><td>Paris Masters                  </td><td>Hard</td><td>R</td><td>28.45175</td><td>R</td><td>23.41136</td><td> 89</td><td>27</td><td>42</td></tr>\n",
       "\t<tr><td>⋮</td><td>⋮</td><td>⋮</td><td>⋮</td><td>⋮</td><td>⋮</td><td>⋮</td><td>⋮</td><td>⋮</td></tr>\n",
       "\t<tr><td>Barcelona          </td><td>Clay</td><td>L</td><td>29.81520</td><td>R</td><td>32.30664</td><td>108</td><td>27</td><td>46</td></tr>\n",
       "\t<tr><td>Monte Carlo Masters</td><td>Clay</td><td>R</td><td>23.14579</td><td>R</td><td>24.94456</td><td> NA</td><td>17</td><td>50</td></tr>\n",
       "\t<tr><td>Dubai              </td><td>Hard</td><td>R</td><td>29.89733</td><td>R</td><td>30.47502</td><td> 64</td><td>66</td><td>68</td></tr>\n",
       "</tbody>\n",
       "</table>\n"
      ],
      "text/latex": [
       "A tibble: 5149 × 9\n",
       "\\begin{tabular}{lllllllll}\n",
       " tourney\\_name & play\\_surface & winner\\_hand & winner\\_age & loser\\_hand & loser\\_age & minutes & winner\\_rank & loser\\_rank\\\\\n",
       " <fct> & <fct> & <fct> & <dbl> & <fct> & <dbl> & <dbl> & <dbl> & <dbl>\\\\\n",
       "\\hline\n",
       "\t Davis Cup Finals RR: USA vs ITA & Hard & R & 22.05613 & R & 23.60027 & 138 & 32 &  8\\\\\n",
       "\t Indian Wells Masters            & Hard & L & 27.41410 & R & 25.82615 & 143 & 67 & 54\\\\\n",
       "\t Paris Masters                   & Hard & R & 28.45175 & R & 23.41136 &  89 & 27 & 42\\\\\n",
       "\t ⋮ & ⋮ & ⋮ & ⋮ & ⋮ & ⋮ & ⋮ & ⋮ & ⋮\\\\\n",
       "\t Barcelona           & Clay & L & 29.81520 & R & 32.30664 & 108 & 27 & 46\\\\\n",
       "\t Monte Carlo Masters & Clay & R & 23.14579 & R & 24.94456 &  NA & 17 & 50\\\\\n",
       "\t Dubai               & Hard & R & 29.89733 & R & 30.47502 &  64 & 66 & 68\\\\\n",
       "\\end{tabular}\n"
      ],
      "text/markdown": [
       "\n",
       "A tibble: 5149 × 9\n",
       "\n",
       "| tourney_name &lt;fct&gt; | play_surface &lt;fct&gt; | winner_hand &lt;fct&gt; | winner_age &lt;dbl&gt; | loser_hand &lt;fct&gt; | loser_age &lt;dbl&gt; | minutes &lt;dbl&gt; | winner_rank &lt;dbl&gt; | loser_rank &lt;dbl&gt; |\n",
       "|---|---|---|---|---|---|---|---|---|\n",
       "| Davis Cup Finals RR: USA vs ITA | Hard | R | 22.05613 | R | 23.60027 | 138 | 32 |  8 |\n",
       "| Indian Wells Masters            | Hard | L | 27.41410 | R | 25.82615 | 143 | 67 | 54 |\n",
       "| Paris Masters                   | Hard | R | 28.45175 | R | 23.41136 |  89 | 27 | 42 |\n",
       "| ⋮ | ⋮ | ⋮ | ⋮ | ⋮ | ⋮ | ⋮ | ⋮ | ⋮ |\n",
       "| Barcelona           | Clay | L | 29.81520 | R | 32.30664 | 108 | 27 | 46 |\n",
       "| Monte Carlo Masters | Clay | R | 23.14579 | R | 24.94456 |  NA | 17 | 50 |\n",
       "| Dubai               | Hard | R | 29.89733 | R | 30.47502 |  64 | 66 | 68 |\n",
       "\n"
      ],
      "text/plain": [
       "     tourney_name                    play_surface winner_hand winner_age\n",
       "1    Davis Cup Finals RR: USA vs ITA Hard         R           22.05613  \n",
       "2    Indian Wells Masters            Hard         L           27.41410  \n",
       "3    Paris Masters                   Hard         R           28.45175  \n",
       "⋮    ⋮                               ⋮            ⋮           ⋮         \n",
       "5147 Barcelona                       Clay         L           29.81520  \n",
       "5148 Monte Carlo Masters             Clay         R           23.14579  \n",
       "5149 Dubai                           Hard         R           29.89733  \n",
       "     loser_hand loser_age minutes winner_rank loser_rank\n",
       "1    R          23.60027  138     32           8        \n",
       "2    R          25.82615  143     67          54        \n",
       "3    R          23.41136   89     27          42        \n",
       "⋮    ⋮          ⋮         ⋮       ⋮           ⋮         \n",
       "5147 R          32.30664  108     27          46        \n",
       "5148 R          24.94456   NA     17          50        \n",
       "5149 R          30.47502   64     66          68        "
      ]
     },
     "metadata": {},
     "output_type": "display_data"
    },
    {
     "data": {
      "text/html": [
       "<table class=\"dataframe\">\n",
       "<caption>A tibble: 1717 × 9</caption>\n",
       "<thead>\n",
       "\t<tr><th scope=col>tourney_name</th><th scope=col>play_surface</th><th scope=col>winner_hand</th><th scope=col>winner_age</th><th scope=col>loser_hand</th><th scope=col>loser_age</th><th scope=col>minutes</th><th scope=col>winner_rank</th><th scope=col>loser_rank</th></tr>\n",
       "\t<tr><th scope=col>&lt;fct&gt;</th><th scope=col>&lt;fct&gt;</th><th scope=col>&lt;fct&gt;</th><th scope=col>&lt;dbl&gt;</th><th scope=col>&lt;fct&gt;</th><th scope=col>&lt;dbl&gt;</th><th scope=col>&lt;dbl&gt;</th><th scope=col>&lt;dbl&gt;</th><th scope=col>&lt;dbl&gt;</th></tr>\n",
       "</thead>\n",
       "<tbody>\n",
       "\t<tr><td>Brisbane</td><td>Hard</td><td>R</td><td>31.88227</td><td>R</td><td>26.40383</td><td>127</td><td>40</td><td>185</td></tr>\n",
       "\t<tr><td>Brisbane</td><td>Hard</td><td>R</td><td>28.01095</td><td>R</td><td>19.33470</td><td> 82</td><td>18</td><td>131</td></tr>\n",
       "\t<tr><td>Brisbane</td><td>Hard</td><td>R</td><td>27.62765</td><td>R</td><td>29.54689</td><td> 88</td><td>19</td><td> 38</td></tr>\n",
       "\t<tr><td>⋮</td><td>⋮</td><td>⋮</td><td>⋮</td><td>⋮</td><td>⋮</td><td>⋮</td><td>⋮</td><td>⋮</td></tr>\n",
       "\t<tr><td>Paris Masters</td><td>Hard</td><td>R</td><td>29.10062</td><td>R</td><td>28.58590</td><td>62</td><td>17</td><td>58</td></tr>\n",
       "\t<tr><td>Paris Masters</td><td>Hard</td><td>L</td><td>33.95756</td><td>R</td><td>24.15606</td><td>83</td><td>39</td><td> 6</td></tr>\n",
       "\t<tr><td>Tour Finals  </td><td>Hard</td><td>R</td><td>26.49692</td><td>R</td><td>26.93498</td><td>NA</td><td> 6</td><td> 8</td></tr>\n",
       "</tbody>\n",
       "</table>\n"
      ],
      "text/latex": [
       "A tibble: 1717 × 9\n",
       "\\begin{tabular}{lllllllll}\n",
       " tourney\\_name & play\\_surface & winner\\_hand & winner\\_age & loser\\_hand & loser\\_age & minutes & winner\\_rank & loser\\_rank\\\\\n",
       " <fct> & <fct> & <fct> & <dbl> & <fct> & <dbl> & <dbl> & <dbl> & <dbl>\\\\\n",
       "\\hline\n",
       "\t Brisbane & Hard & R & 31.88227 & R & 26.40383 & 127 & 40 & 185\\\\\n",
       "\t Brisbane & Hard & R & 28.01095 & R & 19.33470 &  82 & 18 & 131\\\\\n",
       "\t Brisbane & Hard & R & 27.62765 & R & 29.54689 &  88 & 19 &  38\\\\\n",
       "\t ⋮ & ⋮ & ⋮ & ⋮ & ⋮ & ⋮ & ⋮ & ⋮ & ⋮\\\\\n",
       "\t Paris Masters & Hard & R & 29.10062 & R & 28.58590 & 62 & 17 & 58\\\\\n",
       "\t Paris Masters & Hard & L & 33.95756 & R & 24.15606 & 83 & 39 &  6\\\\\n",
       "\t Tour Finals   & Hard & R & 26.49692 & R & 26.93498 & NA &  6 &  8\\\\\n",
       "\\end{tabular}\n"
      ],
      "text/markdown": [
       "\n",
       "A tibble: 1717 × 9\n",
       "\n",
       "| tourney_name &lt;fct&gt; | play_surface &lt;fct&gt; | winner_hand &lt;fct&gt; | winner_age &lt;dbl&gt; | loser_hand &lt;fct&gt; | loser_age &lt;dbl&gt; | minutes &lt;dbl&gt; | winner_rank &lt;dbl&gt; | loser_rank &lt;dbl&gt; |\n",
       "|---|---|---|---|---|---|---|---|---|\n",
       "| Brisbane | Hard | R | 31.88227 | R | 26.40383 | 127 | 40 | 185 |\n",
       "| Brisbane | Hard | R | 28.01095 | R | 19.33470 |  82 | 18 | 131 |\n",
       "| Brisbane | Hard | R | 27.62765 | R | 29.54689 |  88 | 19 |  38 |\n",
       "| ⋮ | ⋮ | ⋮ | ⋮ | ⋮ | ⋮ | ⋮ | ⋮ | ⋮ |\n",
       "| Paris Masters | Hard | R | 29.10062 | R | 28.58590 | 62 | 17 | 58 |\n",
       "| Paris Masters | Hard | L | 33.95756 | R | 24.15606 | 83 | 39 |  6 |\n",
       "| Tour Finals   | Hard | R | 26.49692 | R | 26.93498 | NA |  6 |  8 |\n",
       "\n"
      ],
      "text/plain": [
       "     tourney_name  play_surface winner_hand winner_age loser_hand loser_age\n",
       "1    Brisbane      Hard         R           31.88227   R          26.40383 \n",
       "2    Brisbane      Hard         R           28.01095   R          19.33470 \n",
       "3    Brisbane      Hard         R           27.62765   R          29.54689 \n",
       "⋮    ⋮             ⋮            ⋮           ⋮          ⋮          ⋮        \n",
       "1715 Paris Masters Hard         R           29.10062   R          28.58590 \n",
       "1716 Paris Masters Hard         L           33.95756   R          24.15606 \n",
       "1717 Tour Finals   Hard         R           26.49692   R          26.93498 \n",
       "     minutes winner_rank loser_rank\n",
       "1    127     40          185       \n",
       "2     82     18          131       \n",
       "3     88     19           38       \n",
       "⋮    ⋮       ⋮           ⋮         \n",
       "1715 62      17          58        \n",
       "1716 83      39           6        \n",
       "1717 NA       6           8        "
      ]
     },
     "metadata": {},
     "output_type": "display_data"
    }
   ],
   "source": [
    "library(tidyverse)\n",
    "library(repr)\n",
    "library(tidymodels)\n",
    "options(repr.matrix.max.rows = 6)\n",
    "\n",
    "download.file(\"https://drive.google.com/uc?export=download&id=1fOQ8sy_qMkQiQEAO6uFdRX4tLI8EpSTn\", \"tennis_game_data.csv\")\n",
    "tennis_game_data <- read_csv(\"tennis_game_data.csv\", show_col_types = FALSE) |> \n",
    "    mutate(play_surface = as_factor(surface), tourney_name = as_factor(tourney_name), winner_hand = as_factor(winner_hand), loser_hand = as_factor(loser_hand)) |>\n",
    "    select(tourney_name, play_surface, winner_hand, winner_age, loser_hand, loser_age, minutes, winner_rank, loser_rank)\n",
    "tennis_game_data\n",
    "\n",
    "tennis_split <- initial_split(tennis_game_data, prop = .75, strata = )  \n",
    "tennis_train <- training(tennis_split)   \n",
    "tennis_test <- testing(tennis_split)\n",
    "tennis_train\n",
    "tennis_test"
   ]
  },
  {
   "cell_type": "code",
   "execution_count": 4,
   "id": "ebcafed8-c464-474e-8293-62ebd84beba1",
   "metadata": {},
   "outputs": [
    {
     "name": "stderr",
     "output_type": "stream",
     "text": [
      "\u001b[1m\u001b[22mNew names:\n",
      "\u001b[36m•\u001b[39m `` -> `...1`\n"
     ]
    },
    {
     "data": {
      "text/html": [
       "<table class=\"dataframe\">\n",
       "<caption>A spec_tbl_df: 6866 × 50</caption>\n",
       "<thead>\n",
       "\t<tr><th scope=col>...1</th><th scope=col>tourney_id</th><th scope=col>tourney_name</th><th scope=col>surface</th><th scope=col>draw_size</th><th scope=col>tourney_level</th><th scope=col>tourney_date</th><th scope=col>match_num</th><th scope=col>winner_id</th><th scope=col>winner_seed</th><th scope=col>⋯</th><th scope=col>l_1stin</th><th scope=col>l_1stwon</th><th scope=col>l_2ndwon</th><th scope=col>l_svgms</th><th scope=col>l_bpsaved</th><th scope=col>l_bpfaced</th><th scope=col>winner_rank</th><th scope=col>winner_rank_points</th><th scope=col>loser_rank</th><th scope=col>loser_rank_points</th></tr>\n",
       "\t<tr><th scope=col>&lt;dbl&gt;</th><th scope=col>&lt;chr&gt;</th><th scope=col>&lt;chr&gt;</th><th scope=col>&lt;chr&gt;</th><th scope=col>&lt;dbl&gt;</th><th scope=col>&lt;chr&gt;</th><th scope=col>&lt;dbl&gt;</th><th scope=col>&lt;dbl&gt;</th><th scope=col>&lt;dbl&gt;</th><th scope=col>&lt;chr&gt;</th><th scope=col>⋯</th><th scope=col>&lt;dbl&gt;</th><th scope=col>&lt;dbl&gt;</th><th scope=col>&lt;dbl&gt;</th><th scope=col>&lt;dbl&gt;</th><th scope=col>&lt;dbl&gt;</th><th scope=col>&lt;dbl&gt;</th><th scope=col>&lt;dbl&gt;</th><th scope=col>&lt;dbl&gt;</th><th scope=col>&lt;dbl&gt;</th><th scope=col>&lt;dbl&gt;</th></tr>\n",
       "</thead>\n",
       "<tbody>\n",
       "\t<tr><td>0</td><td>2019-M020</td><td>Brisbane</td><td>Hard</td><td>32</td><td>A</td><td>20181231</td><td>300</td><td>105453</td><td>2</td><td>⋯</td><td>54</td><td>34</td><td>20</td><td>14</td><td>10</td><td>15</td><td> 9</td><td>3590</td><td> 16</td><td>1977</td></tr>\n",
       "\t<tr><td>1</td><td>2019-M020</td><td>Brisbane</td><td>Hard</td><td>32</td><td>A</td><td>20181231</td><td>299</td><td>106421</td><td>4</td><td>⋯</td><td>52</td><td>36</td><td> 7</td><td>10</td><td>10</td><td>13</td><td>16</td><td>1977</td><td>239</td><td> 200</td></tr>\n",
       "\t<tr><td>2</td><td>2019-M020</td><td>Brisbane</td><td>Hard</td><td>32</td><td>A</td><td>20181231</td><td>298</td><td>105453</td><td>2</td><td>⋯</td><td>27</td><td>15</td><td> 6</td><td> 8</td><td> 1</td><td> 5</td><td> 9</td><td>3590</td><td> 40</td><td>1050</td></tr>\n",
       "\t<tr><td>⋮</td><td>⋮</td><td>⋮</td><td>⋮</td><td>⋮</td><td>⋮</td><td>⋮</td><td>⋮</td><td>⋮</td><td>⋮</td><td>⋱</td><td>⋮</td><td>⋮</td><td>⋮</td><td>⋮</td><td>⋮</td><td>⋮</td><td>⋮</td><td>⋮</td><td>⋮</td><td>⋮</td></tr>\n",
       "\t<tr><td>2883</td><td>2017-M-DC-2017-WG-M-BEL-FRA-01</td><td>Davis Cup WG F: BEL vs FRA</td><td>Hard</td><td>4</td><td>D</td><td>20171124</td><td>2</td><td>104542</td><td>NA</td><td>⋯</td><td>54</td><td>30</td><td>12</td><td>12</td><td>5</td><td>11</td><td>15</td><td>2320</td><td>76</td><td> 667</td></tr>\n",
       "\t<tr><td>2884</td><td>2017-M-DC-2017-WG-M-BEL-FRA-01</td><td>Davis Cup WG F: BEL vs FRA</td><td>Hard</td><td>4</td><td>D</td><td>20171124</td><td>4</td><td>105676</td><td>NA</td><td>⋯</td><td>54</td><td>44</td><td>13</td><td>14</td><td>7</td><td>10</td><td> 7</td><td>3775</td><td>15</td><td>2320</td></tr>\n",
       "\t<tr><td>2885</td><td>2017-M-DC-2017-WG-M-BEL-FRA-01</td><td>Davis Cup WG F: BEL vs FRA</td><td>Hard</td><td>4</td><td>D</td><td>20171124</td><td>5</td><td>106298</td><td>NA</td><td>⋯</td><td>53</td><td>29</td><td>11</td><td>11</td><td>4</td><td>11</td><td>18</td><td>2235</td><td>76</td><td> 667</td></tr>\n",
       "</tbody>\n",
       "</table>\n"
      ],
      "text/latex": [
       "A spec\\_tbl\\_df: 6866 × 50\n",
       "\\begin{tabular}{lllllllllllllllllllll}\n",
       " ...1 & tourney\\_id & tourney\\_name & surface & draw\\_size & tourney\\_level & tourney\\_date & match\\_num & winner\\_id & winner\\_seed & ⋯ & l\\_1stin & l\\_1stwon & l\\_2ndwon & l\\_svgms & l\\_bpsaved & l\\_bpfaced & winner\\_rank & winner\\_rank\\_points & loser\\_rank & loser\\_rank\\_points\\\\\n",
       " <dbl> & <chr> & <chr> & <chr> & <dbl> & <chr> & <dbl> & <dbl> & <dbl> & <chr> & ⋯ & <dbl> & <dbl> & <dbl> & <dbl> & <dbl> & <dbl> & <dbl> & <dbl> & <dbl> & <dbl>\\\\\n",
       "\\hline\n",
       "\t 0 & 2019-M020 & Brisbane & Hard & 32 & A & 20181231 & 300 & 105453 & 2 & ⋯ & 54 & 34 & 20 & 14 & 10 & 15 &  9 & 3590 &  16 & 1977\\\\\n",
       "\t 1 & 2019-M020 & Brisbane & Hard & 32 & A & 20181231 & 299 & 106421 & 4 & ⋯ & 52 & 36 &  7 & 10 & 10 & 13 & 16 & 1977 & 239 &  200\\\\\n",
       "\t 2 & 2019-M020 & Brisbane & Hard & 32 & A & 20181231 & 298 & 105453 & 2 & ⋯ & 27 & 15 &  6 &  8 &  1 &  5 &  9 & 3590 &  40 & 1050\\\\\n",
       "\t ⋮ & ⋮ & ⋮ & ⋮ & ⋮ & ⋮ & ⋮ & ⋮ & ⋮ & ⋮ & ⋱ & ⋮ & ⋮ & ⋮ & ⋮ & ⋮ & ⋮ & ⋮ & ⋮ & ⋮ & ⋮\\\\\n",
       "\t 2883 & 2017-M-DC-2017-WG-M-BEL-FRA-01 & Davis Cup WG F: BEL vs FRA & Hard & 4 & D & 20171124 & 2 & 104542 & NA & ⋯ & 54 & 30 & 12 & 12 & 5 & 11 & 15 & 2320 & 76 &  667\\\\\n",
       "\t 2884 & 2017-M-DC-2017-WG-M-BEL-FRA-01 & Davis Cup WG F: BEL vs FRA & Hard & 4 & D & 20171124 & 4 & 105676 & NA & ⋯ & 54 & 44 & 13 & 14 & 7 & 10 &  7 & 3775 & 15 & 2320\\\\\n",
       "\t 2885 & 2017-M-DC-2017-WG-M-BEL-FRA-01 & Davis Cup WG F: BEL vs FRA & Hard & 4 & D & 20171124 & 5 & 106298 & NA & ⋯ & 53 & 29 & 11 & 11 & 4 & 11 & 18 & 2235 & 76 &  667\\\\\n",
       "\\end{tabular}\n"
      ],
      "text/markdown": [
       "\n",
       "A spec_tbl_df: 6866 × 50\n",
       "\n",
       "| ...1 &lt;dbl&gt; | tourney_id &lt;chr&gt; | tourney_name &lt;chr&gt; | surface &lt;chr&gt; | draw_size &lt;dbl&gt; | tourney_level &lt;chr&gt; | tourney_date &lt;dbl&gt; | match_num &lt;dbl&gt; | winner_id &lt;dbl&gt; | winner_seed &lt;chr&gt; | ⋯ ⋯ | l_1stin &lt;dbl&gt; | l_1stwon &lt;dbl&gt; | l_2ndwon &lt;dbl&gt; | l_svgms &lt;dbl&gt; | l_bpsaved &lt;dbl&gt; | l_bpfaced &lt;dbl&gt; | winner_rank &lt;dbl&gt; | winner_rank_points &lt;dbl&gt; | loser_rank &lt;dbl&gt; | loser_rank_points &lt;dbl&gt; |\n",
       "|---|---|---|---|---|---|---|---|---|---|---|---|---|---|---|---|---|---|---|---|---|\n",
       "| 0 | 2019-M020 | Brisbane | Hard | 32 | A | 20181231 | 300 | 105453 | 2 | ⋯ | 54 | 34 | 20 | 14 | 10 | 15 |  9 | 3590 |  16 | 1977 |\n",
       "| 1 | 2019-M020 | Brisbane | Hard | 32 | A | 20181231 | 299 | 106421 | 4 | ⋯ | 52 | 36 |  7 | 10 | 10 | 13 | 16 | 1977 | 239 |  200 |\n",
       "| 2 | 2019-M020 | Brisbane | Hard | 32 | A | 20181231 | 298 | 105453 | 2 | ⋯ | 27 | 15 |  6 |  8 |  1 |  5 |  9 | 3590 |  40 | 1050 |\n",
       "| ⋮ | ⋮ | ⋮ | ⋮ | ⋮ | ⋮ | ⋮ | ⋮ | ⋮ | ⋮ | ⋱ | ⋮ | ⋮ | ⋮ | ⋮ | ⋮ | ⋮ | ⋮ | ⋮ | ⋮ | ⋮ |\n",
       "| 2883 | 2017-M-DC-2017-WG-M-BEL-FRA-01 | Davis Cup WG F: BEL vs FRA | Hard | 4 | D | 20171124 | 2 | 104542 | NA | ⋯ | 54 | 30 | 12 | 12 | 5 | 11 | 15 | 2320 | 76 |  667 |\n",
       "| 2884 | 2017-M-DC-2017-WG-M-BEL-FRA-01 | Davis Cup WG F: BEL vs FRA | Hard | 4 | D | 20171124 | 4 | 105676 | NA | ⋯ | 54 | 44 | 13 | 14 | 7 | 10 |  7 | 3775 | 15 | 2320 |\n",
       "| 2885 | 2017-M-DC-2017-WG-M-BEL-FRA-01 | Davis Cup WG F: BEL vs FRA | Hard | 4 | D | 20171124 | 5 | 106298 | NA | ⋯ | 53 | 29 | 11 | 11 | 4 | 11 | 18 | 2235 | 76 |  667 |\n",
       "\n"
      ],
      "text/plain": [
       "     ...1 tourney_id                     tourney_name               surface\n",
       "1    0    2019-M020                      Brisbane                   Hard   \n",
       "2    1    2019-M020                      Brisbane                   Hard   \n",
       "3    2    2019-M020                      Brisbane                   Hard   \n",
       "⋮    ⋮    ⋮                              ⋮                          ⋮      \n",
       "6864 2883 2017-M-DC-2017-WG-M-BEL-FRA-01 Davis Cup WG F: BEL vs FRA Hard   \n",
       "6865 2884 2017-M-DC-2017-WG-M-BEL-FRA-01 Davis Cup WG F: BEL vs FRA Hard   \n",
       "6866 2885 2017-M-DC-2017-WG-M-BEL-FRA-01 Davis Cup WG F: BEL vs FRA Hard   \n",
       "     draw_size tourney_level tourney_date match_num winner_id winner_seed ⋯\n",
       "1    32        A             20181231     300       105453    2           ⋯\n",
       "2    32        A             20181231     299       106421    4           ⋯\n",
       "3    32        A             20181231     298       105453    2           ⋯\n",
       "⋮    ⋮         ⋮             ⋮            ⋮         ⋮         ⋮           ⋱\n",
       "6864 4         D             20171124     2         104542    NA          ⋯\n",
       "6865 4         D             20171124     4         105676    NA          ⋯\n",
       "6866 4         D             20171124     5         106298    NA          ⋯\n",
       "     l_1stin l_1stwon l_2ndwon l_svgms l_bpsaved l_bpfaced winner_rank\n",
       "1    54      34       20       14      10        15         9         \n",
       "2    52      36        7       10      10        13        16         \n",
       "3    27      15        6        8       1         5         9         \n",
       "⋮    ⋮       ⋮        ⋮        ⋮       ⋮         ⋮         ⋮          \n",
       "6864 54      30       12       12      5         11        15         \n",
       "6865 54      44       13       14      7         10         7         \n",
       "6866 53      29       11       11      4         11        18         \n",
       "     winner_rank_points loser_rank loser_rank_points\n",
       "1    3590                16        1977             \n",
       "2    1977               239         200             \n",
       "3    3590                40        1050             \n",
       "⋮    ⋮                  ⋮          ⋮                \n",
       "6864 2320               76          667             \n",
       "6865 3775               15         2320             \n",
       "6866 2235               76          667             "
      ]
     },
     "metadata": {},
     "output_type": "display_data"
    }
   ],
   "source": [
    "#Individual player data - will probably delete\n",
    "\n",
    "# library(tidyverse)\n",
    "# library(repr)\n",
    "# library(tidymodels)\n",
    "# options(repr.matrix.max.rows = 6)\n",
    "\n",
    "# download.file(\"https://drive.google.com/uc?export=download&id=1_MECmUXZuuILYeEOfonSGqodW6qVdhsS\", \"tennis_data.csv\")\n",
    "# tennis_data <- read_csv(\"tennis_data.csv\", show_col_types = FALSE) |> \n",
    "#     rename_all(make.names) |>  \n",
    "#     rename_with(str_to_lower) |>\n",
    "#     mutate(backhand = as_factor(backhand), handedness = as_factor(plays)) |>\n",
    "#     select(name, country, handedness, current.rank, current.elo.rank, seasons) |>\n",
    "#     filter(handedness == \"Right-handed\" | handedness == \"Left-handed\")\n",
    "# tennis_data\n",
    "\n",
    "# tennis_split <- initial_split(tennis_data, prop = .75, strata = handedness)  \n",
    "# tennis_train <- training(tennis_split)   \n",
    "# tennis_test <- testing(tennis_split)\n",
    "# tennis_train\n",
    "# tennis_test"
   ]
  },
  {
   "cell_type": "markdown",
   "id": "6be308a2-7bff-42e6-9b1f-8171b6f88579",
   "metadata": {},
   "source": [
    "**Methods**\n",
    "*Explain how you will conduct either your data analysis and which variables/columns you will use.\n",
    "Describe at least one way that you will visualize the results*"
   ]
  },
  {
   "cell_type": "markdown",
   "id": "02b799f8-4c88-4d2c-84f6-7ef39ac7daf3",
   "metadata": {},
   "source": [
    "**Expected outcomes and significance** *Answer questions on Canvas*"
   ]
  },
  {
   "cell_type": "code",
   "execution_count": null,
   "id": "649ce6ff-8933-4564-b2bf-b1a939611ffd",
   "metadata": {},
   "outputs": [],
   "source": []
  }
 ],
 "metadata": {
  "kernelspec": {
   "display_name": "R",
   "language": "R",
   "name": "ir"
  },
  "language_info": {
   "codemirror_mode": "r",
   "file_extension": ".r",
   "mimetype": "text/x-r-source",
   "name": "R",
   "pygments_lexer": "r",
   "version": "4.1.3"
  }
 },
 "nbformat": 4,
 "nbformat_minor": 5
}
