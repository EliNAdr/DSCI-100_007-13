{
 "cells": [
  {
   "cell_type": "markdown",
   "id": "d1ffc54f-a2b0-4630-a143-b83f5272abfc",
   "metadata": {},
   "source": [
    "**Group 007-13 Project Proposal**"
   ]
  },
  {
   "cell_type": "markdown",
   "id": "c38fc5ad-cd26-4e48-8a5c-372297ce64db",
   "metadata": {},
   "source": [
    "**Introduction**\n",
    "The data set we chose is a tennis data set. We chose to keep specific columns in order to remove irrelevant data and keep the most important columns. We decided to keep if they are right or left handed, their current ranking, the player's name, their backhand throw, their current elo rank, and their prize money. A player's current elo rank is an estimate of their strength and is affected by their wins and loses. We are wondering whether a players bankhand throw and whether they are left or right handed affects their overall success. We will evaluate this by using their backhand, handedness, current rank, and current elo rank. "
   ]
  },
  {
   "cell_type": "markdown",
   "id": "194582e9-ec16-4e06-afe8-20514e5b10e0",
   "metadata": {},
   "source": [
    "**Preliminary exploratory data analysis**\n",
    "*In code cells below, demonstrate that data can be read into R and then follow the instructions on Canvas*"
   ]
  },
  {
   "cell_type": "code",
   "execution_count": 35,
   "id": "dde6c19b-028e-471e-80a6-206989bdb132",
   "metadata": {},
   "outputs": [
    {
     "ename": "ERROR",
     "evalue": "Error in parse(text = x, srcfile = src): <text>:10:139: unexpected symbol\n9: oser_age, total_rank_points = winner_rank_points + loser_rank_points, total_height = winner_ht + loser_ht) |>\n10:     select(play_surface, total_rank_points, total_age, total_height, winner_hand, winner_age, winner_ht, loser_hand, loser_age, winner_ht minutes\n                                                                                                                                              ^\n",
     "output_type": "error",
     "traceback": [
      "Error in parse(text = x, srcfile = src): <text>:10:139: unexpected symbol\n9: oser_age, total_rank_points = winner_rank_points + loser_rank_points, total_height = winner_ht + loser_ht) |>\n10:     select(play_surface, total_rank_points, total_age, total_height, winner_hand, winner_age, winner_ht, loser_hand, loser_age, winner_ht minutes\n                                                                                                                                              ^\nTraceback:\n"
     ]
    }
   ],
   "source": [
    "library(tidyverse)\n",
    "library(repr)\n",
    "library(tidymodels)\n",
    "options(repr.matrix.max.rows = 6)\n",
    "\n",
    "download.file(\"https://drive.google.com/uc?export=download&id=1fOQ8sy_qMkQiQEAO6uFdRX4tLI8EpSTn\", \"tennis_data.csv\")\n",
    "tennis_data <- read_csv(\"tennis_data.csv\", show_col_types = FALSE) |> \n",
    "    mutate(play_surface = as_factor(surface), winner_hand = as_factor(winner_hand), loser_hand = as_factor(loser_hand)) |>\n",
    "    mutate(total_age = winner_age + loser_age, total_rank_points = winner_rank_points + loser_rank_points, total_height = winner_ht + loser_ht) |>\n",
    "    select(play_surface, total_rank_points, total_age, total_height, winner_hand, winner_age, winner_ht, loser_hand, loser_age, winner_ht, minutes, winner_rank_points, loser_rank_points)\n",
    "#tennis_data\n",
    "\n",
    "tennis_split <- initial_split(tennis_data, prop = .75, strata = )  \n",
    "tennis_train <- training(tennis_split)   \n",
    "tennis_test <- testing(tennis_split)\n",
    "# tennis_train\n",
    "# tennis_test\n",
    "\n",
    "demo_plot <- ggplot(tennis_test, aes(x = total_rank_points, y = total_age, colour = play_surface)) +\n",
    "    geom_point() #+\n",
    "    #labs(title = \"Players' Ages and Playing Surface\", x = \"Winner's Age\", y = \"Play Time (minutes)\", colour = \"Playing Surface\")\n",
    "demo_plot"
   ]
  },
  {
   "cell_type": "markdown",
   "id": "6be308a2-7bff-42e6-9b1f-8171b6f88579",
   "metadata": {},
   "source": [
    "**Methods**\n",
    "*Explain how you will conduct either your data analysis and which variables/columns you will use.\n",
    "Describe at least one way that you will visualize the results*"
   ]
  },
  {
   "cell_type": "markdown",
   "id": "02b799f8-4c88-4d2c-84f6-7ef39ac7daf3",
   "metadata": {},
   "source": [
    "**Expected outcomes and significance** *Answer questions on Canvas*"
   ]
  },
  {
   "cell_type": "code",
   "execution_count": null,
   "id": "649ce6ff-8933-4564-b2bf-b1a939611ffd",
   "metadata": {},
   "outputs": [],
   "source": []
  }
 ],
 "metadata": {
  "kernelspec": {
   "display_name": "R",
   "language": "R",
   "name": "ir"
  },
  "language_info": {
   "codemirror_mode": "r",
   "file_extension": ".r",
   "mimetype": "text/x-r-source",
   "name": "R",
   "pygments_lexer": "r",
   "version": "4.1.3"
  }
 },
 "nbformat": 4,
 "nbformat_minor": 5
}
