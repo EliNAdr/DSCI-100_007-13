{
 "cells": [
  {
   "cell_type": "markdown",
   "id": "d1ffc54f-a2b0-4630-a143-b83f5272abfc",
   "metadata": {},
   "source": [
    "**Group 007-13 Project Proposal**"
   ]
  },
  {
   "cell_type": "markdown",
   "id": "c38fc5ad-cd26-4e48-8a5c-372297ce64db",
   "metadata": {},
   "source": [
    "**Introduction**\n",
    "The data set we chose is a tennis data set. We chose to keep specific columns in order to remove irrelevant data and keep the most important columns. We decided to keep if they are right or left handed, their current ranking, the player's name, their backhand throw, their current elo rank, and their prize money. A player's current elo rank is an estimate of their strength and is affected by their wins and loses. We are wondering whether a players bankhand throw and whether they are left or right handed affects their overall success. We will evaluate this by using their backhand, handedness, current rank, and current elo rank. "
   ]
  },
  {
   "cell_type": "markdown",
   "id": "194582e9-ec16-4e06-afe8-20514e5b10e0",
   "metadata": {},
   "source": [
    "**Preliminary exploratory data analysis**\n",
    "*In code cells below, demonstrate that data can be read into R and then follow the instructions on Canvas*"
   ]
  },
  {
   "cell_type": "code",
   "execution_count": 12,
   "id": "dde6c19b-028e-471e-80a6-206989bdb132",
   "metadata": {},
   "outputs": [
    {
     "name": "stderr",
     "output_type": "stream",
     "text": [
      "\u001b[1m\u001b[22mNew names:\n",
      "\u001b[36m•\u001b[39m `` -> `...1`\n"
     ]
    },
    {
     "data": {
      "text/html": [
       "<table class=\"dataframe\">\n",
       "<caption>A tibble: 6866 × 9</caption>\n",
       "<thead>\n",
       "\t<tr><th scope=col>tourney_name</th><th scope=col>play_surface</th><th scope=col>winner_hand</th><th scope=col>winner_age</th><th scope=col>loser_hand</th><th scope=col>loser_age</th><th scope=col>minutes</th><th scope=col>winner_rank</th><th scope=col>loser_rank</th></tr>\n",
       "\t<tr><th scope=col>&lt;fct&gt;</th><th scope=col>&lt;fct&gt;</th><th scope=col>&lt;fct&gt;</th><th scope=col>&lt;dbl&gt;</th><th scope=col>&lt;fct&gt;</th><th scope=col>&lt;dbl&gt;</th><th scope=col>&lt;dbl&gt;</th><th scope=col>&lt;dbl&gt;</th><th scope=col>&lt;dbl&gt;</th></tr>\n",
       "</thead>\n",
       "<tbody>\n",
       "\t<tr><td>Brisbane</td><td>Hard</td><td>R</td><td>29.00479</td><td>R</td><td>22.88569</td><td>124</td><td> 9</td><td> 16</td></tr>\n",
       "\t<tr><td>Brisbane</td><td>Hard</td><td>R</td><td>22.88569</td><td>R</td><td>33.70568</td><td> 82</td><td>16</td><td>239</td></tr>\n",
       "\t<tr><td>Brisbane</td><td>Hard</td><td>R</td><td>29.00479</td><td>R</td><td>31.88227</td><td> 66</td><td> 9</td><td> 40</td></tr>\n",
       "\t<tr><td>⋮</td><td>⋮</td><td>⋮</td><td>⋮</td><td>⋮</td><td>⋮</td><td>⋮</td><td>⋮</td><td>⋮</td></tr>\n",
       "\t<tr><td>Davis Cup WG F: BEL vs FRA</td><td>Hard</td><td>R</td><td>32.59411</td><td>R</td><td>33.68925</td><td>106</td><td>15</td><td>76</td></tr>\n",
       "\t<tr><td>Davis Cup WG F: BEL vs FRA</td><td>Hard</td><td>R</td><td>26.95414</td><td>R</td><td>32.59411</td><td>164</td><td> 7</td><td>15</td></tr>\n",
       "\t<tr><td>Davis Cup WG F: BEL vs FRA</td><td>Hard</td><td>R</td><td>23.73990</td><td>R</td><td>33.68925</td><td> 94</td><td>18</td><td>76</td></tr>\n",
       "</tbody>\n",
       "</table>\n"
      ],
      "text/latex": [
       "A tibble: 6866 × 9\n",
       "\\begin{tabular}{lllllllll}\n",
       " tourney\\_name & play\\_surface & winner\\_hand & winner\\_age & loser\\_hand & loser\\_age & minutes & winner\\_rank & loser\\_rank\\\\\n",
       " <fct> & <fct> & <fct> & <dbl> & <fct> & <dbl> & <dbl> & <dbl> & <dbl>\\\\\n",
       "\\hline\n",
       "\t Brisbane & Hard & R & 29.00479 & R & 22.88569 & 124 &  9 &  16\\\\\n",
       "\t Brisbane & Hard & R & 22.88569 & R & 33.70568 &  82 & 16 & 239\\\\\n",
       "\t Brisbane & Hard & R & 29.00479 & R & 31.88227 &  66 &  9 &  40\\\\\n",
       "\t ⋮ & ⋮ & ⋮ & ⋮ & ⋮ & ⋮ & ⋮ & ⋮ & ⋮\\\\\n",
       "\t Davis Cup WG F: BEL vs FRA & Hard & R & 32.59411 & R & 33.68925 & 106 & 15 & 76\\\\\n",
       "\t Davis Cup WG F: BEL vs FRA & Hard & R & 26.95414 & R & 32.59411 & 164 &  7 & 15\\\\\n",
       "\t Davis Cup WG F: BEL vs FRA & Hard & R & 23.73990 & R & 33.68925 &  94 & 18 & 76\\\\\n",
       "\\end{tabular}\n"
      ],
      "text/markdown": [
       "\n",
       "A tibble: 6866 × 9\n",
       "\n",
       "| tourney_name &lt;fct&gt; | play_surface &lt;fct&gt; | winner_hand &lt;fct&gt; | winner_age &lt;dbl&gt; | loser_hand &lt;fct&gt; | loser_age &lt;dbl&gt; | minutes &lt;dbl&gt; | winner_rank &lt;dbl&gt; | loser_rank &lt;dbl&gt; |\n",
       "|---|---|---|---|---|---|---|---|---|\n",
       "| Brisbane | Hard | R | 29.00479 | R | 22.88569 | 124 |  9 |  16 |\n",
       "| Brisbane | Hard | R | 22.88569 | R | 33.70568 |  82 | 16 | 239 |\n",
       "| Brisbane | Hard | R | 29.00479 | R | 31.88227 |  66 |  9 |  40 |\n",
       "| ⋮ | ⋮ | ⋮ | ⋮ | ⋮ | ⋮ | ⋮ | ⋮ | ⋮ |\n",
       "| Davis Cup WG F: BEL vs FRA | Hard | R | 32.59411 | R | 33.68925 | 106 | 15 | 76 |\n",
       "| Davis Cup WG F: BEL vs FRA | Hard | R | 26.95414 | R | 32.59411 | 164 |  7 | 15 |\n",
       "| Davis Cup WG F: BEL vs FRA | Hard | R | 23.73990 | R | 33.68925 |  94 | 18 | 76 |\n",
       "\n"
      ],
      "text/plain": [
       "     tourney_name               play_surface winner_hand winner_age loser_hand\n",
       "1    Brisbane                   Hard         R           29.00479   R         \n",
       "2    Brisbane                   Hard         R           22.88569   R         \n",
       "3    Brisbane                   Hard         R           29.00479   R         \n",
       "⋮    ⋮                          ⋮            ⋮           ⋮          ⋮         \n",
       "6864 Davis Cup WG F: BEL vs FRA Hard         R           32.59411   R         \n",
       "6865 Davis Cup WG F: BEL vs FRA Hard         R           26.95414   R         \n",
       "6866 Davis Cup WG F: BEL vs FRA Hard         R           23.73990   R         \n",
       "     loser_age minutes winner_rank loser_rank\n",
       "1    22.88569  124      9           16       \n",
       "2    33.70568   82     16          239       \n",
       "3    31.88227   66      9           40       \n",
       "⋮    ⋮         ⋮       ⋮           ⋮         \n",
       "6864 33.68925  106     15          76        \n",
       "6865 32.59411  164      7          15        \n",
       "6866 33.68925   94     18          76        "
      ]
     },
     "metadata": {},
     "output_type": "display_data"
    },
    {
     "data": {
      "text/html": [
       "<table class=\"dataframe\">\n",
       "<caption>A tibble: 5149 × 9</caption>\n",
       "<thead>\n",
       "\t<tr><th scope=col>tourney_name</th><th scope=col>play_surface</th><th scope=col>winner_hand</th><th scope=col>winner_age</th><th scope=col>loser_hand</th><th scope=col>loser_age</th><th scope=col>minutes</th><th scope=col>winner_rank</th><th scope=col>loser_rank</th></tr>\n",
       "\t<tr><th scope=col>&lt;fct&gt;</th><th scope=col>&lt;fct&gt;</th><th scope=col>&lt;fct&gt;</th><th scope=col>&lt;dbl&gt;</th><th scope=col>&lt;fct&gt;</th><th scope=col>&lt;dbl&gt;</th><th scope=col>&lt;dbl&gt;</th><th scope=col>&lt;dbl&gt;</th><th scope=col>&lt;dbl&gt;</th></tr>\n",
       "</thead>\n",
       "<tbody>\n",
       "\t<tr><td>Antalya        </td><td>Grass</td><td>L</td><td>29.98768</td><td>R</td><td>29.23751</td><td>103</td><td> 24</td><td>47</td></tr>\n",
       "\t<tr><td>Australian Open</td><td>Hard </td><td>R</td><td>21.65914</td><td>R</td><td>30.65298</td><td>201</td><td> 58</td><td>14</td></tr>\n",
       "\t<tr><td>Montpellier    </td><td>Hard </td><td>R</td><td>28.64613</td><td>R</td><td>29.38261</td><td>124</td><td>109</td><td>41</td></tr>\n",
       "\t<tr><td>⋮</td><td>⋮</td><td>⋮</td><td>⋮</td><td>⋮</td><td>⋮</td><td>⋮</td><td>⋮</td><td>⋮</td></tr>\n",
       "\t<tr><td>Newport                        </td><td>Grass</td><td>R</td><td>27.98084</td><td>R</td><td>32.85147</td><td>136</td><td>72</td><td>107</td></tr>\n",
       "\t<tr><td>Davis Cup Finals QF: GBR vs GER</td><td>Hard </td><td>R</td><td>29.48939</td><td>R</td><td>29.56605</td><td>141</td><td>42</td><td> 35</td></tr>\n",
       "\t<tr><td>Delray Beach                   </td><td>Hard </td><td>R</td><td>21.98220</td><td>R</td><td>26.81451</td><td> 96</td><td>98</td><td>162</td></tr>\n",
       "</tbody>\n",
       "</table>\n"
      ],
      "text/latex": [
       "A tibble: 5149 × 9\n",
       "\\begin{tabular}{lllllllll}\n",
       " tourney\\_name & play\\_surface & winner\\_hand & winner\\_age & loser\\_hand & loser\\_age & minutes & winner\\_rank & loser\\_rank\\\\\n",
       " <fct> & <fct> & <fct> & <dbl> & <fct> & <dbl> & <dbl> & <dbl> & <dbl>\\\\\n",
       "\\hline\n",
       "\t Antalya         & Grass & L & 29.98768 & R & 29.23751 & 103 &  24 & 47\\\\\n",
       "\t Australian Open & Hard  & R & 21.65914 & R & 30.65298 & 201 &  58 & 14\\\\\n",
       "\t Montpellier     & Hard  & R & 28.64613 & R & 29.38261 & 124 & 109 & 41\\\\\n",
       "\t ⋮ & ⋮ & ⋮ & ⋮ & ⋮ & ⋮ & ⋮ & ⋮ & ⋮\\\\\n",
       "\t Newport                         & Grass & R & 27.98084 & R & 32.85147 & 136 & 72 & 107\\\\\n",
       "\t Davis Cup Finals QF: GBR vs GER & Hard  & R & 29.48939 & R & 29.56605 & 141 & 42 &  35\\\\\n",
       "\t Delray Beach                    & Hard  & R & 21.98220 & R & 26.81451 &  96 & 98 & 162\\\\\n",
       "\\end{tabular}\n"
      ],
      "text/markdown": [
       "\n",
       "A tibble: 5149 × 9\n",
       "\n",
       "| tourney_name &lt;fct&gt; | play_surface &lt;fct&gt; | winner_hand &lt;fct&gt; | winner_age &lt;dbl&gt; | loser_hand &lt;fct&gt; | loser_age &lt;dbl&gt; | minutes &lt;dbl&gt; | winner_rank &lt;dbl&gt; | loser_rank &lt;dbl&gt; |\n",
       "|---|---|---|---|---|---|---|---|---|\n",
       "| Antalya         | Grass | L | 29.98768 | R | 29.23751 | 103 |  24 | 47 |\n",
       "| Australian Open | Hard  | R | 21.65914 | R | 30.65298 | 201 |  58 | 14 |\n",
       "| Montpellier     | Hard  | R | 28.64613 | R | 29.38261 | 124 | 109 | 41 |\n",
       "| ⋮ | ⋮ | ⋮ | ⋮ | ⋮ | ⋮ | ⋮ | ⋮ | ⋮ |\n",
       "| Newport                         | Grass | R | 27.98084 | R | 32.85147 | 136 | 72 | 107 |\n",
       "| Davis Cup Finals QF: GBR vs GER | Hard  | R | 29.48939 | R | 29.56605 | 141 | 42 |  35 |\n",
       "| Delray Beach                    | Hard  | R | 21.98220 | R | 26.81451 |  96 | 98 | 162 |\n",
       "\n"
      ],
      "text/plain": [
       "     tourney_name                    play_surface winner_hand winner_age\n",
       "1    Antalya                         Grass        L           29.98768  \n",
       "2    Australian Open                 Hard         R           21.65914  \n",
       "3    Montpellier                     Hard         R           28.64613  \n",
       "⋮    ⋮                               ⋮            ⋮           ⋮         \n",
       "5147 Newport                         Grass        R           27.98084  \n",
       "5148 Davis Cup Finals QF: GBR vs GER Hard         R           29.48939  \n",
       "5149 Delray Beach                    Hard         R           21.98220  \n",
       "     loser_hand loser_age minutes winner_rank loser_rank\n",
       "1    R          29.23751  103      24         47        \n",
       "2    R          30.65298  201      58         14        \n",
       "3    R          29.38261  124     109         41        \n",
       "⋮    ⋮          ⋮         ⋮       ⋮           ⋮         \n",
       "5147 R          32.85147  136     72          107       \n",
       "5148 R          29.56605  141     42           35       \n",
       "5149 R          26.81451   96     98          162       "
      ]
     },
     "metadata": {},
     "output_type": "display_data"
    },
    {
     "data": {
      "text/html": [
       "<table class=\"dataframe\">\n",
       "<caption>A tibble: 1717 × 9</caption>\n",
       "<thead>\n",
       "\t<tr><th scope=col>tourney_name</th><th scope=col>play_surface</th><th scope=col>winner_hand</th><th scope=col>winner_age</th><th scope=col>loser_hand</th><th scope=col>loser_age</th><th scope=col>minutes</th><th scope=col>winner_rank</th><th scope=col>loser_rank</th></tr>\n",
       "\t<tr><th scope=col>&lt;fct&gt;</th><th scope=col>&lt;fct&gt;</th><th scope=col>&lt;fct&gt;</th><th scope=col>&lt;dbl&gt;</th><th scope=col>&lt;fct&gt;</th><th scope=col>&lt;dbl&gt;</th><th scope=col>&lt;dbl&gt;</th><th scope=col>&lt;dbl&gt;</th><th scope=col>&lt;dbl&gt;</th></tr>\n",
       "</thead>\n",
       "<tbody>\n",
       "\t<tr><td>Brisbane</td><td>Hard</td><td>R</td><td>33.70568</td><td>R</td><td>19.86858</td><td>106</td><td>239</td><td>31</td></tr>\n",
       "\t<tr><td>Brisbane</td><td>Hard</td><td>R</td><td>22.88569</td><td>R</td><td>28.01095</td><td>129</td><td> 16</td><td>18</td></tr>\n",
       "\t<tr><td>Brisbane</td><td>Hard</td><td>R</td><td>29.00479</td><td>R</td><td>27.62765</td><td>100</td><td>  9</td><td>19</td></tr>\n",
       "\t<tr><td>⋮</td><td>⋮</td><td>⋮</td><td>⋮</td><td>⋮</td><td>⋮</td><td>⋮</td><td>⋮</td><td>⋮</td></tr>\n",
       "\t<tr><td>Tour Finals               </td><td>Hard</td><td>R</td><td>26.93498</td><td>R</td><td>36.26557</td><td>105</td><td> 8</td><td> 2</td></tr>\n",
       "\t<tr><td>Tour Finals               </td><td>Hard</td><td>R</td><td>26.49692</td><td>R</td><td>26.93498</td><td>150</td><td> 6</td><td> 8</td></tr>\n",
       "\t<tr><td>Davis Cup WG F: BEL vs FRA</td><td>Hard</td><td>R</td><td>32.59411</td><td>R</td><td>33.68925</td><td>106</td><td>15</td><td>76</td></tr>\n",
       "</tbody>\n",
       "</table>\n"
      ],
      "text/latex": [
       "A tibble: 1717 × 9\n",
       "\\begin{tabular}{lllllllll}\n",
       " tourney\\_name & play\\_surface & winner\\_hand & winner\\_age & loser\\_hand & loser\\_age & minutes & winner\\_rank & loser\\_rank\\\\\n",
       " <fct> & <fct> & <fct> & <dbl> & <fct> & <dbl> & <dbl> & <dbl> & <dbl>\\\\\n",
       "\\hline\n",
       "\t Brisbane & Hard & R & 33.70568 & R & 19.86858 & 106 & 239 & 31\\\\\n",
       "\t Brisbane & Hard & R & 22.88569 & R & 28.01095 & 129 &  16 & 18\\\\\n",
       "\t Brisbane & Hard & R & 29.00479 & R & 27.62765 & 100 &   9 & 19\\\\\n",
       "\t ⋮ & ⋮ & ⋮ & ⋮ & ⋮ & ⋮ & ⋮ & ⋮ & ⋮\\\\\n",
       "\t Tour Finals                & Hard & R & 26.93498 & R & 36.26557 & 105 &  8 &  2\\\\\n",
       "\t Tour Finals                & Hard & R & 26.49692 & R & 26.93498 & 150 &  6 &  8\\\\\n",
       "\t Davis Cup WG F: BEL vs FRA & Hard & R & 32.59411 & R & 33.68925 & 106 & 15 & 76\\\\\n",
       "\\end{tabular}\n"
      ],
      "text/markdown": [
       "\n",
       "A tibble: 1717 × 9\n",
       "\n",
       "| tourney_name &lt;fct&gt; | play_surface &lt;fct&gt; | winner_hand &lt;fct&gt; | winner_age &lt;dbl&gt; | loser_hand &lt;fct&gt; | loser_age &lt;dbl&gt; | minutes &lt;dbl&gt; | winner_rank &lt;dbl&gt; | loser_rank &lt;dbl&gt; |\n",
       "|---|---|---|---|---|---|---|---|---|\n",
       "| Brisbane | Hard | R | 33.70568 | R | 19.86858 | 106 | 239 | 31 |\n",
       "| Brisbane | Hard | R | 22.88569 | R | 28.01095 | 129 |  16 | 18 |\n",
       "| Brisbane | Hard | R | 29.00479 | R | 27.62765 | 100 |   9 | 19 |\n",
       "| ⋮ | ⋮ | ⋮ | ⋮ | ⋮ | ⋮ | ⋮ | ⋮ | ⋮ |\n",
       "| Tour Finals                | Hard | R | 26.93498 | R | 36.26557 | 105 |  8 |  2 |\n",
       "| Tour Finals                | Hard | R | 26.49692 | R | 26.93498 | 150 |  6 |  8 |\n",
       "| Davis Cup WG F: BEL vs FRA | Hard | R | 32.59411 | R | 33.68925 | 106 | 15 | 76 |\n",
       "\n"
      ],
      "text/plain": [
       "     tourney_name               play_surface winner_hand winner_age loser_hand\n",
       "1    Brisbane                   Hard         R           33.70568   R         \n",
       "2    Brisbane                   Hard         R           22.88569   R         \n",
       "3    Brisbane                   Hard         R           29.00479   R         \n",
       "⋮    ⋮                          ⋮            ⋮           ⋮          ⋮         \n",
       "1715 Tour Finals                Hard         R           26.93498   R         \n",
       "1716 Tour Finals                Hard         R           26.49692   R         \n",
       "1717 Davis Cup WG F: BEL vs FRA Hard         R           32.59411   R         \n",
       "     loser_age minutes winner_rank loser_rank\n",
       "1    19.86858  106     239         31        \n",
       "2    28.01095  129      16         18        \n",
       "3    27.62765  100       9         19        \n",
       "⋮    ⋮         ⋮       ⋮           ⋮         \n",
       "1715 36.26557  105      8           2        \n",
       "1716 26.93498  150      6           8        \n",
       "1717 33.68925  106     15          76        "
      ]
     },
     "metadata": {},
     "output_type": "display_data"
    }
   ],
   "source": [
    "library(tidyverse)\n",
    "library(repr)\n",
    "library(tidymodels)\n",
    "options(repr.matrix.max.rows = 6)\n",
    "\n",
    "download.file(\"https://drive.google.com/uc?export=download&id=1fOQ8sy_qMkQiQEAO6uFdRX4tLI8EpSTn\", \"tennis_data.csv\")\n",
    "tennis_data <- read_csv(\"tennis_data.csv\", show_col_types = FALSE) |> \n",
    "    mutate(play_surface = as_factor(surface), tourney_name = as_factor(tourney_name), winner_hand = as_factor(winner_hand), loser_hand = as_factor(loser_hand)) |>\n",
    "    select(tourney_name, play_surface, winner_hand, winner_age, loser_hand, loser_age, minutes, winner_rank, loser_rank)\n",
    "tennis_data\n",
    "\n",
    "tennis_split <- initial_split(tennis_data, prop = .75, strata = )  \n",
    "tennis_train <- training(tennis_split)   \n",
    "tennis_test <- testing(tennis_split)\n",
    "tennis_train\n",
    "tennis_test"
   ]
  },
  {
   "cell_type": "markdown",
   "id": "6be308a2-7bff-42e6-9b1f-8171b6f88579",
   "metadata": {},
   "source": [
    "**Methods**\n",
    "*Explain how you will conduct either your data analysis and which variables/columns you will use.\n",
    "Describe at least one way that you will visualize the results*"
   ]
  },
  {
   "cell_type": "markdown",
   "id": "02b799f8-4c88-4d2c-84f6-7ef39ac7daf3",
   "metadata": {},
   "source": [
    "**Expected outcomes and significance** *Answer questions on Canvas*"
   ]
  },
  {
   "cell_type": "code",
   "execution_count": null,
   "id": "649ce6ff-8933-4564-b2bf-b1a939611ffd",
   "metadata": {},
   "outputs": [],
   "source": []
  }
 ],
 "metadata": {
  "kernelspec": {
   "display_name": "R",
   "language": "R",
   "name": "ir"
  },
  "language_info": {
   "codemirror_mode": "r",
   "file_extension": ".r",
   "mimetype": "text/x-r-source",
   "name": "R",
   "pygments_lexer": "r",
   "version": "4.1.3"
  }
 },
 "nbformat": 4,
 "nbformat_minor": 5
}
