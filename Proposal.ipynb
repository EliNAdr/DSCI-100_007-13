{
 "cells": [
  {
   "cell_type": "markdown",
   "id": "d1ffc54f-a2b0-4630-a143-b83f5272abfc",
   "metadata": {},
   "source": [
    "**Group 007-13 Project Proposal**"
   ]
  },
  {
   "cell_type": "markdown",
   "id": "c38fc5ad-cd26-4e48-8a5c-372297ce64db",
   "metadata": {},
   "source": [
    "**Introduction**\n",
    "*Write introduction here*"
   ]
  },
  {
   "cell_type": "markdown",
   "id": "194582e9-ec16-4e06-afe8-20514e5b10e0",
   "metadata": {},
   "source": [
    "**Preliminary exploratory data analysis**\n",
    "*In code cells below, demonstrate that data can be read into R and then follow the instructions on Canvas*"
   ]
  },
  {
   "cell_type": "code",
   "execution_count": 40,
   "id": "ebcafed8-c464-474e-8293-62ebd84beba1",
   "metadata": {},
   "outputs": [
    {
     "name": "stderr",
     "output_type": "stream",
     "text": [
      "\u001b[1m\u001b[22mNew names:\n",
      "\u001b[36m•\u001b[39m `` -> `...1`\n",
      "\u001b[1mRows: \u001b[22m\u001b[34m500\u001b[39m \u001b[1mColumns: \u001b[22m\u001b[34m38\u001b[39m\n",
      "\u001b[36m──\u001b[39m \u001b[1mColumn specification\u001b[22m \u001b[36m────────────────────────────────────────────────────────\u001b[39m\n",
      "\u001b[1mDelimiter:\u001b[22m \",\"\n",
      "\u001b[31mchr\u001b[39m (25): Age, Country, Plays, Wikipedia, Current Rank, Best Rank, Name, Bac...\n",
      "\u001b[32mdbl\u001b[39m (13): ...1, Turned Pro, Seasons, Titles, Best Season, Retired, Masters, ...\n",
      "\n",
      "\u001b[36mℹ\u001b[39m Use `spec()` to retrieve the full column specification for this data.\n",
      "\u001b[36mℹ\u001b[39m Specify the column types or set `show_col_types = FALSE` to quiet this message.\n"
     ]
    },
    {
     "data": {
      "text/html": [
       "<table class=\"dataframe\">\n",
       "<caption>A tibble: 500 × 11</caption>\n",
       "<thead>\n",
       "\t<tr><th scope=col>Age</th><th scope=col>Country</th><th scope=col>handedness</th><th scope=col>Current.Rank</th><th scope=col>Best.Rank</th><th scope=col>Name</th><th scope=col>backhand</th><th scope=col>Seasons</th><th scope=col>Active</th><th scope=col>Current.Elo.Rank</th><th scope=col>Peak.Elo.Rating</th></tr>\n",
       "\t<tr><th scope=col>&lt;chr&gt;</th><th scope=col>&lt;chr&gt;</th><th scope=col>&lt;fct&gt;</th><th scope=col>&lt;chr&gt;</th><th scope=col>&lt;chr&gt;</th><th scope=col>&lt;chr&gt;</th><th scope=col>&lt;fct&gt;</th><th scope=col>&lt;dbl&gt;</th><th scope=col>&lt;chr&gt;</th><th scope=col>&lt;chr&gt;</th><th scope=col>&lt;chr&gt;</th></tr>\n",
       "</thead>\n",
       "<tbody>\n",
       "\t<tr><td>26 (25-04-1993)</td><td>Brazil        </td><td>Right-handed</td><td>378 (97) </td><td>363 (04-11-2019)</td><td>Oscar Jose Gutierrez</td><td>NA        </td><td>NA</td><td>NA </td><td>NA        </td><td>NA               </td></tr>\n",
       "\t<tr><td>18 (22-12-2001)</td><td>United Kingdom</td><td>Left-handed </td><td>326 (119)</td><td>316 (14-10-2019)</td><td>Jack Draper         </td><td>Two-handed</td><td>NA</td><td>NA </td><td>NA        </td><td>NA               </td></tr>\n",
       "\t<tr><td>32 (03-11-1987)</td><td>Slovakia      </td><td>Right-handed</td><td>178 (280)</td><td>44 (14-01-2013) </td><td>Lukas Lacko         </td><td>Two-handed</td><td>14</td><td>Yes</td><td>144 (1764)</td><td>1886 (06-02-2012)</td></tr>\n",
       "\t<tr><td>⋮</td><td>⋮</td><td>⋮</td><td>⋮</td><td>⋮</td><td>⋮</td><td>⋮</td><td>⋮</td><td>⋮</td><td>⋮</td><td>⋮</td></tr>\n",
       "\t<tr><td>23 (14-03-1996)</td><td>Netherlands</td><td>Left-handed</td><td>495 (60)</td><td>342 (05-08-2019)</td><td>Gijs Brouwer   </td><td>NA        </td><td>NA</td><td>NA</td><td>NA</td><td>NA</td></tr>\n",
       "\t<tr><td>24 (17-05-1995)</td><td>Ukraine    </td><td>NA         </td><td>419 (81)</td><td>419 (20-01-2020)</td><td>Vladyslav Orlov</td><td>NA        </td><td>NA</td><td>NA</td><td>NA</td><td>NA</td></tr>\n",
       "\t<tr><td>22 (26-03-1997)</td><td>Tunisia    </td><td>Left-handed</td><td>451 (69)</td><td>408 (24-12-2018)</td><td>Aziz Dougaz    </td><td>Two-handed</td><td> 2</td><td>NA</td><td>NA</td><td>NA</td></tr>\n",
       "</tbody>\n",
       "</table>\n"
      ],
      "text/latex": [
       "A tibble: 500 × 11\n",
       "\\begin{tabular}{lllllllllll}\n",
       " Age & Country & handedness & Current.Rank & Best.Rank & Name & backhand & Seasons & Active & Current.Elo.Rank & Peak.Elo.Rating\\\\\n",
       " <chr> & <chr> & <fct> & <chr> & <chr> & <chr> & <fct> & <dbl> & <chr> & <chr> & <chr>\\\\\n",
       "\\hline\n",
       "\t 26 (25-04-1993) & Brazil         & Right-handed & 378 (97)  & 363 (04-11-2019) & Oscar Jose Gutierrez & NA         & NA & NA  & NA         & NA               \\\\\n",
       "\t 18 (22-12-2001) & United Kingdom & Left-handed  & 326 (119) & 316 (14-10-2019) & Jack Draper          & Two-handed & NA & NA  & NA         & NA               \\\\\n",
       "\t 32 (03-11-1987) & Slovakia       & Right-handed & 178 (280) & 44 (14-01-2013)  & Lukas Lacko          & Two-handed & 14 & Yes & 144 (1764) & 1886 (06-02-2012)\\\\\n",
       "\t ⋮ & ⋮ & ⋮ & ⋮ & ⋮ & ⋮ & ⋮ & ⋮ & ⋮ & ⋮ & ⋮\\\\\n",
       "\t 23 (14-03-1996) & Netherlands & Left-handed & 495 (60) & 342 (05-08-2019) & Gijs Brouwer    & NA         & NA & NA & NA & NA\\\\\n",
       "\t 24 (17-05-1995) & Ukraine     & NA          & 419 (81) & 419 (20-01-2020) & Vladyslav Orlov & NA         & NA & NA & NA & NA\\\\\n",
       "\t 22 (26-03-1997) & Tunisia     & Left-handed & 451 (69) & 408 (24-12-2018) & Aziz Dougaz     & Two-handed &  2 & NA & NA & NA\\\\\n",
       "\\end{tabular}\n"
      ],
      "text/markdown": [
       "\n",
       "A tibble: 500 × 11\n",
       "\n",
       "| Age &lt;chr&gt; | Country &lt;chr&gt; | handedness &lt;fct&gt; | Current.Rank &lt;chr&gt; | Best.Rank &lt;chr&gt; | Name &lt;chr&gt; | backhand &lt;fct&gt; | Seasons &lt;dbl&gt; | Active &lt;chr&gt; | Current.Elo.Rank &lt;chr&gt; | Peak.Elo.Rating &lt;chr&gt; |\n",
       "|---|---|---|---|---|---|---|---|---|---|---|\n",
       "| 26 (25-04-1993) | Brazil         | Right-handed | 378 (97)  | 363 (04-11-2019) | Oscar Jose Gutierrez | NA         | NA | NA  | NA         | NA                |\n",
       "| 18 (22-12-2001) | United Kingdom | Left-handed  | 326 (119) | 316 (14-10-2019) | Jack Draper          | Two-handed | NA | NA  | NA         | NA                |\n",
       "| 32 (03-11-1987) | Slovakia       | Right-handed | 178 (280) | 44 (14-01-2013)  | Lukas Lacko          | Two-handed | 14 | Yes | 144 (1764) | 1886 (06-02-2012) |\n",
       "| ⋮ | ⋮ | ⋮ | ⋮ | ⋮ | ⋮ | ⋮ | ⋮ | ⋮ | ⋮ | ⋮ |\n",
       "| 23 (14-03-1996) | Netherlands | Left-handed | 495 (60) | 342 (05-08-2019) | Gijs Brouwer    | NA         | NA | NA | NA | NA |\n",
       "| 24 (17-05-1995) | Ukraine     | NA          | 419 (81) | 419 (20-01-2020) | Vladyslav Orlov | NA         | NA | NA | NA | NA |\n",
       "| 22 (26-03-1997) | Tunisia     | Left-handed | 451 (69) | 408 (24-12-2018) | Aziz Dougaz     | Two-handed |  2 | NA | NA | NA |\n",
       "\n"
      ],
      "text/plain": [
       "    Age             Country        handedness   Current.Rank Best.Rank       \n",
       "1   26 (25-04-1993) Brazil         Right-handed 378 (97)     363 (04-11-2019)\n",
       "2   18 (22-12-2001) United Kingdom Left-handed  326 (119)    316 (14-10-2019)\n",
       "3   32 (03-11-1987) Slovakia       Right-handed 178 (280)    44 (14-01-2013) \n",
       "⋮   ⋮               ⋮              ⋮            ⋮            ⋮               \n",
       "498 23 (14-03-1996) Netherlands    Left-handed  495 (60)     342 (05-08-2019)\n",
       "499 24 (17-05-1995) Ukraine        NA           419 (81)     419 (20-01-2020)\n",
       "500 22 (26-03-1997) Tunisia        Left-handed  451 (69)     408 (24-12-2018)\n",
       "    Name                 backhand   Seasons Active Current.Elo.Rank\n",
       "1   Oscar Jose Gutierrez NA         NA      NA     NA              \n",
       "2   Jack Draper          Two-handed NA      NA     NA              \n",
       "3   Lukas Lacko          Two-handed 14      Yes    144 (1764)      \n",
       "⋮   ⋮                    ⋮          ⋮       ⋮      ⋮               \n",
       "498 Gijs Brouwer         NA         NA      NA     NA              \n",
       "499 Vladyslav Orlov      NA         NA      NA     NA              \n",
       "500 Aziz Dougaz          Two-handed  2      NA     NA              \n",
       "    Peak.Elo.Rating  \n",
       "1   NA               \n",
       "2   NA               \n",
       "3   1886 (06-02-2012)\n",
       "⋮   ⋮                \n",
       "498 NA               \n",
       "499 NA               \n",
       "500 NA               "
      ]
     },
     "metadata": {},
     "output_type": "display_data"
    }
   ],
   "source": [
    "library(tidyverse)\n",
    "library(repr)\n",
    "library(tidymodels)\n",
    "options(repr.matrix.max.rows = 6)\n",
    "\n",
    "download.file(\"https://drive.google.com/uc?export=download&id=1_MECmUXZuuILYeEOfonSGqodW6qVdhsS\", \"tennis_data.csv\")\n",
    "tennis_data <- read_csv(\"tennis_data.csv\") |> rename_all(make.names) |>\n",
    "    mutate(backhand = as_factor(Backhand), handedness = as_factor(Plays)) |>\n",
    "    select(Age, Country, handedness, Current.Rank, Best.Rank, Name, backhand, Seasons, Active, Current.Elo.Rank, Peak.Elo.Rating)\n",
    "tennis_data"
   ]
  },
  {
   "cell_type": "markdown",
   "id": "6be308a2-7bff-42e6-9b1f-8171b6f88579",
   "metadata": {},
   "source": [
    "**Methods**\n",
    "*Explain how you will conduct either your data analysis and which variables/columns you will use.\n",
    "Describe at least one way that you will visualize the results*"
   ]
  },
  {
   "cell_type": "markdown",
   "id": "02b799f8-4c88-4d2c-84f6-7ef39ac7daf3",
   "metadata": {},
   "source": [
    "**Expected outcomes and significance** *Answer questions on Canvas*"
   ]
  },
  {
   "cell_type": "code",
   "execution_count": null,
   "id": "649ce6ff-8933-4564-b2bf-b1a939611ffd",
   "metadata": {},
   "outputs": [],
   "source": []
  }
 ],
 "metadata": {
  "kernelspec": {
   "display_name": "R",
   "language": "R",
   "name": "ir"
  },
  "language_info": {
   "codemirror_mode": "r",
   "file_extension": ".r",
   "mimetype": "text/x-r-source",
   "name": "R",
   "pygments_lexer": "r",
   "version": "4.1.3"
  }
 },
 "nbformat": 4,
 "nbformat_minor": 5
}
