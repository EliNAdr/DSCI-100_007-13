{
 "cells": [
  {
   "cell_type": "markdown",
   "id": "d1ffc54f-a2b0-4630-a143-b83f5272abfc",
   "metadata": {},
   "source": [
    "**Group 007-13 Project Proposal**"
   ]
  },
  {
   "cell_type": "markdown",
   "id": "c38fc5ad-cd26-4e48-8a5c-372297ce64db",
   "metadata": {},
   "source": [
    "**Introduction**\n",
    "The data set we chose is a tennis data set. We chose to keep specific columns in order to remove irrelevant data and keep the most important columns. We decided to keep if they are right or left handed, their current ranking, the player's name, their backhand throw, their current elo rank, and their prize money. A player's current elo rank is an estimate of their strength and is affected by their wins and loses. We are wondering whether a players bankhand throw and whether they are left or right handed affects their overall success. We will evaluate this by using their backhand, handedness, current rank, and current elo rank. "
   ]
  },
  {
   "cell_type": "markdown",
   "id": "194582e9-ec16-4e06-afe8-20514e5b10e0",
   "metadata": {},
   "source": [
    "**Preliminary exploratory data analysis**\n",
    "*In code cells below, demonstrate that data can be read into R and then follow the instructions on Canvas*"
   ]
  },
  {
   "cell_type": "code",
   "execution_count": 30,
   "id": "ebcafed8-c464-474e-8293-62ebd84beba1",
   "metadata": {},
   "outputs": [
    {
     "name": "stderr",
     "output_type": "stream",
     "text": [
      "\u001b[1m\u001b[22mNew names:\n",
      "\u001b[36m•\u001b[39m `` -> `...1`\n",
      "Warning message in mask$eval_all_mutate(quo):\n",
      "“NAs introduced by coercion”\n"
     ]
    },
    {
     "data": {
      "text/html": [
       "<table class=\"dataframe\">\n",
       "<caption>A tibble: 453 × 7</caption>\n",
       "<thead>\n",
       "\t<tr><th scope=col>name</th><th scope=col>country</th><th scope=col>handedness</th><th scope=col>current.rank</th><th scope=col>current.elo.rank</th><th scope=col>prize.money</th><th scope=col>seasons</th></tr>\n",
       "\t<tr><th scope=col>&lt;chr&gt;</th><th scope=col>&lt;chr&gt;</th><th scope=col>&lt;fct&gt;</th><th scope=col>&lt;chr&gt;</th><th scope=col>&lt;chr&gt;</th><th scope=col>&lt;chr&gt;</th><th scope=col>&lt;dbl&gt;</th></tr>\n",
       "</thead>\n",
       "<tbody>\n",
       "\t<tr><td>Oscar Jose Gutierrez</td><td>Brazil        </td><td>Right-handed</td><td>378 (97) </td><td>NA        </td><td>NA          </td><td>NA</td></tr>\n",
       "\t<tr><td>Jack Draper         </td><td>United Kingdom</td><td>Left-handed </td><td>326 (119)</td><td>NA        </td><td>$59,040     </td><td>NA</td></tr>\n",
       "\t<tr><td>Lukas Lacko         </td><td>Slovakia      </td><td>Right-handed</td><td>178 (280)</td><td>144 (1764)</td><td>US$3,261,567</td><td>14</td></tr>\n",
       "\t<tr><td>⋮</td><td>⋮</td><td>⋮</td><td>⋮</td><td>⋮</td><td>⋮</td><td>⋮</td></tr>\n",
       "\t<tr><td>Dominic Thiem</td><td>Austria    </td><td>Right-handed</td><td>5 (5890)</td><td>6 (2188)</td><td>$22,132,368 15th all-time leader in earnings</td><td>10</td></tr>\n",
       "\t<tr><td>Gijs Brouwer </td><td>Netherlands</td><td>Left-handed </td><td>495 (60)</td><td>NA      </td><td>NA                                          </td><td>NA</td></tr>\n",
       "\t<tr><td>Aziz Dougaz  </td><td>Tunisia    </td><td>Left-handed </td><td>451 (69)</td><td>NA      </td><td>$61,984                                     </td><td> 2</td></tr>\n",
       "</tbody>\n",
       "</table>\n"
      ],
      "text/latex": [
       "A tibble: 453 × 7\n",
       "\\begin{tabular}{lllllll}\n",
       " name & country & handedness & current.rank & current.elo.rank & prize.money & seasons\\\\\n",
       " <chr> & <chr> & <fct> & <chr> & <chr> & <chr> & <dbl>\\\\\n",
       "\\hline\n",
       "\t Oscar Jose Gutierrez & Brazil         & Right-handed & 378 (97)  & NA         & NA           & NA\\\\\n",
       "\t Jack Draper          & United Kingdom & Left-handed  & 326 (119) & NA         & \\$59,040      & NA\\\\\n",
       "\t Lukas Lacko          & Slovakia       & Right-handed & 178 (280) & 144 (1764) & US\\$3,261,567 & 14\\\\\n",
       "\t ⋮ & ⋮ & ⋮ & ⋮ & ⋮ & ⋮ & ⋮\\\\\n",
       "\t Dominic Thiem & Austria     & Right-handed & 5 (5890) & 6 (2188) & \\$22,132,368 15th all-time leader in earnings & 10\\\\\n",
       "\t Gijs Brouwer  & Netherlands & Left-handed  & 495 (60) & NA       & NA                                           & NA\\\\\n",
       "\t Aziz Dougaz   & Tunisia     & Left-handed  & 451 (69) & NA       & \\$61,984                                      &  2\\\\\n",
       "\\end{tabular}\n"
      ],
      "text/markdown": [
       "\n",
       "A tibble: 453 × 7\n",
       "\n",
       "| name &lt;chr&gt; | country &lt;chr&gt; | handedness &lt;fct&gt; | current.rank &lt;chr&gt; | current.elo.rank &lt;chr&gt; | prize.money &lt;chr&gt; | seasons &lt;dbl&gt; |\n",
       "|---|---|---|---|---|---|---|\n",
       "| Oscar Jose Gutierrez | Brazil         | Right-handed | 378 (97)  | NA         | NA           | NA |\n",
       "| Jack Draper          | United Kingdom | Left-handed  | 326 (119) | NA         | $59,040      | NA |\n",
       "| Lukas Lacko          | Slovakia       | Right-handed | 178 (280) | 144 (1764) | US$3,261,567 | 14 |\n",
       "| ⋮ | ⋮ | ⋮ | ⋮ | ⋮ | ⋮ | ⋮ |\n",
       "| Dominic Thiem | Austria     | Right-handed | 5 (5890) | 6 (2188) | $22,132,368 15th all-time leader in earnings | 10 |\n",
       "| Gijs Brouwer  | Netherlands | Left-handed  | 495 (60) | NA       | NA                                           | NA |\n",
       "| Aziz Dougaz   | Tunisia     | Left-handed  | 451 (69) | NA       | $61,984                                      |  2 |\n",
       "\n"
      ],
      "text/plain": [
       "    name                 country        handedness   current.rank\n",
       "1   Oscar Jose Gutierrez Brazil         Right-handed 378 (97)    \n",
       "2   Jack Draper          United Kingdom Left-handed  326 (119)   \n",
       "3   Lukas Lacko          Slovakia       Right-handed 178 (280)   \n",
       "⋮   ⋮                    ⋮              ⋮            ⋮           \n",
       "451 Dominic Thiem        Austria        Right-handed 5 (5890)    \n",
       "452 Gijs Brouwer         Netherlands    Left-handed  495 (60)    \n",
       "453 Aziz Dougaz          Tunisia        Left-handed  451 (69)    \n",
       "    current.elo.rank prize.money                                  seasons\n",
       "1   NA               NA                                           NA     \n",
       "2   NA               $59,040                                      NA     \n",
       "3   144 (1764)       US$3,261,567                                 14     \n",
       "⋮   ⋮                ⋮                                            ⋮      \n",
       "451 6 (2188)         $22,132,368 15th all-time leader in earnings 10     \n",
       "452 NA               NA                                           NA     \n",
       "453 NA               $61,984                                       2     "
      ]
     },
     "metadata": {},
     "output_type": "display_data"
    },
    {
     "data": {
      "text/html": [
       "<table class=\"dataframe\">\n",
       "<caption>A tibble: 339 × 7</caption>\n",
       "<thead>\n",
       "\t<tr><th scope=col>name</th><th scope=col>country</th><th scope=col>handedness</th><th scope=col>current.rank</th><th scope=col>current.elo.rank</th><th scope=col>prize.money</th><th scope=col>seasons</th></tr>\n",
       "\t<tr><th scope=col>&lt;chr&gt;</th><th scope=col>&lt;chr&gt;</th><th scope=col>&lt;fct&gt;</th><th scope=col>&lt;chr&gt;</th><th scope=col>&lt;chr&gt;</th><th scope=col>&lt;chr&gt;</th><th scope=col>&lt;dbl&gt;</th></tr>\n",
       "</thead>\n",
       "<tbody>\n",
       "\t<tr><td>Prajnesh Gunneswaran</td><td>India  </td><td>Left-handed</td><td>123 (442)</td><td>174 (1705)</td><td>$631,094  </td><td>3</td></tr>\n",
       "\t<tr><td>Jurij Rodionov      </td><td>Austria</td><td>Left-handed</td><td>331 (117)</td><td>NA        </td><td>$127,760  </td><td>2</td></tr>\n",
       "\t<tr><td>Ugo Humbert         </td><td>France </td><td>Left-handed</td><td>43 (1130)</td><td>53 (1924) </td><td>$1,062,355</td><td>3</td></tr>\n",
       "\t<tr><td>⋮</td><td>⋮</td><td>⋮</td><td>⋮</td><td>⋮</td><td>⋮</td><td>⋮</td></tr>\n",
       "\t<tr><td>Artem Dubrivnyy</td><td>Russian Federation</td><td>Right-handed</td><td>397 (89)</td><td>NA      </td><td>$40,724                                     </td><td> 1</td></tr>\n",
       "\t<tr><td>Dan Added      </td><td>France            </td><td>Right-handed</td><td>382 (95)</td><td>NA      </td><td>$57,943                                     </td><td>NA</td></tr>\n",
       "\t<tr><td>Dominic Thiem  </td><td>Austria           </td><td>Right-handed</td><td>5 (5890)</td><td>6 (2188)</td><td>$22,132,368 15th all-time leader in earnings</td><td>10</td></tr>\n",
       "</tbody>\n",
       "</table>\n"
      ],
      "text/latex": [
       "A tibble: 339 × 7\n",
       "\\begin{tabular}{lllllll}\n",
       " name & country & handedness & current.rank & current.elo.rank & prize.money & seasons\\\\\n",
       " <chr> & <chr> & <fct> & <chr> & <chr> & <chr> & <dbl>\\\\\n",
       "\\hline\n",
       "\t Prajnesh Gunneswaran & India   & Left-handed & 123 (442) & 174 (1705) & \\$631,094   & 3\\\\\n",
       "\t Jurij Rodionov       & Austria & Left-handed & 331 (117) & NA         & \\$127,760   & 2\\\\\n",
       "\t Ugo Humbert          & France  & Left-handed & 43 (1130) & 53 (1924)  & \\$1,062,355 & 3\\\\\n",
       "\t ⋮ & ⋮ & ⋮ & ⋮ & ⋮ & ⋮ & ⋮\\\\\n",
       "\t Artem Dubrivnyy & Russian Federation & Right-handed & 397 (89) & NA       & \\$40,724                                      &  1\\\\\n",
       "\t Dan Added       & France             & Right-handed & 382 (95) & NA       & \\$57,943                                      & NA\\\\\n",
       "\t Dominic Thiem   & Austria            & Right-handed & 5 (5890) & 6 (2188) & \\$22,132,368 15th all-time leader in earnings & 10\\\\\n",
       "\\end{tabular}\n"
      ],
      "text/markdown": [
       "\n",
       "A tibble: 339 × 7\n",
       "\n",
       "| name &lt;chr&gt; | country &lt;chr&gt; | handedness &lt;fct&gt; | current.rank &lt;chr&gt; | current.elo.rank &lt;chr&gt; | prize.money &lt;chr&gt; | seasons &lt;dbl&gt; |\n",
       "|---|---|---|---|---|---|---|\n",
       "| Prajnesh Gunneswaran | India   | Left-handed | 123 (442) | 174 (1705) | $631,094   | 3 |\n",
       "| Jurij Rodionov       | Austria | Left-handed | 331 (117) | NA         | $127,760   | 2 |\n",
       "| Ugo Humbert          | France  | Left-handed | 43 (1130) | 53 (1924)  | $1,062,355 | 3 |\n",
       "| ⋮ | ⋮ | ⋮ | ⋮ | ⋮ | ⋮ | ⋮ |\n",
       "| Artem Dubrivnyy | Russian Federation | Right-handed | 397 (89) | NA       | $40,724                                      |  1 |\n",
       "| Dan Added       | France             | Right-handed | 382 (95) | NA       | $57,943                                      | NA |\n",
       "| Dominic Thiem   | Austria            | Right-handed | 5 (5890) | 6 (2188) | $22,132,368 15th all-time leader in earnings | 10 |\n",
       "\n"
      ],
      "text/plain": [
       "    name                 country            handedness   current.rank\n",
       "1   Prajnesh Gunneswaran India              Left-handed  123 (442)   \n",
       "2   Jurij Rodionov       Austria            Left-handed  331 (117)   \n",
       "3   Ugo Humbert          France             Left-handed  43 (1130)   \n",
       "⋮   ⋮                    ⋮                  ⋮            ⋮           \n",
       "337 Artem Dubrivnyy      Russian Federation Right-handed 397 (89)    \n",
       "338 Dan Added            France             Right-handed 382 (95)    \n",
       "339 Dominic Thiem        Austria            Right-handed 5 (5890)    \n",
       "    current.elo.rank prize.money                                  seasons\n",
       "1   174 (1705)       $631,094                                     3      \n",
       "2   NA               $127,760                                     2      \n",
       "3   53 (1924)        $1,062,355                                   3      \n",
       "⋮   ⋮                ⋮                                            ⋮      \n",
       "337 NA               $40,724                                       1     \n",
       "338 NA               $57,943                                      NA     \n",
       "339 6 (2188)         $22,132,368 15th all-time leader in earnings 10     "
      ]
     },
     "metadata": {},
     "output_type": "display_data"
    }
   ],
   "source": [
    "library(tidyverse)\n",
    "library(repr)\n",
    "library(tidymodels)\n",
    "options(repr.matrix.max.rows = 6)\n",
    "\n",
    "download.file(\"https://drive.google.com/uc?export=download&id=1_MECmUXZuuILYeEOfonSGqodW6qVdhsS\", \"tennis_data.csv\")\n",
    "tennis_data <- read_csv(\"tennis_data.csv\", show_col_types = FALSE) |> \n",
    "    rename_all(make.names) |>  \n",
    "    rename_with(str_to_lower) |>\n",
    "    mutate(backhand = as_factor(backhand), handedness = as_factor(plays)) |>\n",
    "    mutate(rank = as.numeric(current.rank)) |>\n",
    "    select(name, country, handedness, current.rank, current.elo.rank, prize.money, seasons) |>\n",
    "    filter(handedness == \"Right-handed\" | handedness == \"Left-handed\")\n",
    "tennis_data\n",
    "\n",
    "tennis_split <- initial_split(tennis_data, prop = .75, strata = handedness)  \n",
    "tennis_train <- training(tennis_split)   \n",
    "tennis_test <- testing(tennis_split)\n",
    "tennis_train"
   ]
  },
  {
   "cell_type": "markdown",
   "id": "6be308a2-7bff-42e6-9b1f-8171b6f88579",
   "metadata": {},
   "source": [
    "**Methods**\n",
    "*Explain how you will conduct either your data analysis and which variables/columns you will use.\n",
    "Describe at least one way that you will visualize the results*"
   ]
  },
  {
   "cell_type": "markdown",
   "id": "02b799f8-4c88-4d2c-84f6-7ef39ac7daf3",
   "metadata": {},
   "source": [
    "**Expected outcomes and significance** *Answer questions on Canvas*"
   ]
  },
  {
   "cell_type": "code",
   "execution_count": null,
   "id": "649ce6ff-8933-4564-b2bf-b1a939611ffd",
   "metadata": {},
   "outputs": [],
   "source": []
  }
 ],
 "metadata": {
  "kernelspec": {
   "display_name": "R",
   "language": "R",
   "name": "ir"
  },
  "language_info": {
   "codemirror_mode": "r",
   "file_extension": ".r",
   "mimetype": "text/x-r-source",
   "name": "R",
   "pygments_lexer": "r",
   "version": "4.1.3"
  }
 },
 "nbformat": 4,
 "nbformat_minor": 5
}
