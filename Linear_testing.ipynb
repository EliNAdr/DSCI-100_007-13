{
 "cells": [
  {
   "cell_type": "code",
   "execution_count": 27,
   "id": "8afe87f9-8f25-4b52-a724-9c6970e4b174",
   "metadata": {},
   "outputs": [],
   "source": [
    "#loading libraries\n",
    "library(tidyverse)\n",
    "library(repr)\n",
    "library(tidymodels)\n",
    "options(repr.matrix.max.rows = 6)"
   ]
  },
  {
   "cell_type": "code",
   "execution_count": 28,
   "id": "dff7e538-d92b-4482-a861-280522b07fbd",
   "metadata": {},
   "outputs": [
    {
     "name": "stderr",
     "output_type": "stream",
     "text": [
      "\u001b[1m\u001b[22mNew names:\n",
      "\u001b[36m•\u001b[39m `` -> `...1`\n"
     ]
    }
   ],
   "source": [
    "tennis_data <- read_csv(\"tennis_data.csv\", show_col_types = FALSE)"
   ]
  },
  {
   "cell_type": "code",
   "execution_count": 64,
   "id": "837af025-793f-465e-ab9c-1ef94dcc253a",
   "metadata": {},
   "outputs": [],
   "source": [
    "#prepping data\n",
    "set.seed(4673)\n",
    "\n",
    "winner_data <- tennis_data |> select(winner_rank_points, winner_ht, w_df, w_bpSaved, w_bpFaced) |> \n",
    "    filter(w_bpSaved != 0) |> filter(w_bpFaced != 0) |> mutate(bpratio = w_bpSaved/w_bpFaced) |> na.omit() |>\n",
    "    rename(rank_points = winner_rank_points, height = winner_ht, double_faults = w_df) |>\n",
    "    select(-w_bpSaved, -w_bpFaced)\n",
    "loser_data <- tennis_data |> select(loser_rank_points, loser_ht, l_df, l_bpSaved, l_bpFaced) |> \n",
    "    filter(l_bpSaved != 0) |> filter(l_bpFaced != 0) |> mutate(bpratio = l_bpSaved/l_bpFaced) |> na.omit() |>\n",
    "    rename(rank_points = loser_rank_points, height = loser_ht, double_faults = l_df) |>\n",
    "    select(-l_bpSaved, -l_bpFaced)\n",
    "\n",
    "player_data <- rbind(winner_data, loser_data)"
   ]
  },
  {
   "cell_type": "code",
   "execution_count": 67,
   "id": "f90957bb-8c3b-4d3f-b179-c63f3dc7c14f",
   "metadata": {},
   "outputs": [
    {
     "data": {
      "text/html": [
       "<table class=\"dataframe\">\n",
       "<caption>A tibble: 7646 × 6</caption>\n",
       "<thead>\n",
       "\t<tr><th scope=col>rank_points</th><th scope=col>height</th><th scope=col>double_faults</th><th scope=col>bpratio</th><th scope=col>mean_ht</th><th scope=col>bp_percent</th></tr>\n",
       "\t<tr><th scope=col>&lt;dbl&gt;</th><th scope=col>&lt;dbl&gt;</th><th scope=col>&lt;dbl&gt;</th><th scope=col>&lt;dbl&gt;</th><th scope=col>&lt;dbl&gt;</th><th scope=col>&lt;dbl&gt;</th></tr>\n",
       "</thead>\n",
       "<tbody>\n",
       "\t<tr><td>3590</td><td>178</td><td>3</td><td>0.5</td><td>186.156</td><td> 50</td></tr>\n",
       "\t<tr><td>3590</td><td>178</td><td>2</td><td>1.0</td><td>186.156</td><td>100</td></tr>\n",
       "\t<tr><td> 200</td><td>188</td><td>2</td><td>0.8</td><td>186.156</td><td> 80</td></tr>\n",
       "\t<tr><td>⋮</td><td>⋮</td><td>⋮</td><td>⋮</td><td>⋮</td><td>⋮</td></tr>\n",
       "\t<tr><td> 667</td><td>178</td><td>2</td><td>0.4545455</td><td>186.156</td><td>45.45455</td></tr>\n",
       "\t<tr><td>2320</td><td>188</td><td>3</td><td>0.7000000</td><td>186.156</td><td>70.00000</td></tr>\n",
       "\t<tr><td> 667</td><td>178</td><td>0</td><td>0.3636364</td><td>186.156</td><td>36.36364</td></tr>\n",
       "</tbody>\n",
       "</table>\n"
      ],
      "text/latex": [
       "A tibble: 7646 × 6\n",
       "\\begin{tabular}{llllll}\n",
       " rank\\_points & height & double\\_faults & bpratio & mean\\_ht & bp\\_percent\\\\\n",
       " <dbl> & <dbl> & <dbl> & <dbl> & <dbl> & <dbl>\\\\\n",
       "\\hline\n",
       "\t 3590 & 178 & 3 & 0.5 & 186.156 &  50\\\\\n",
       "\t 3590 & 178 & 2 & 1.0 & 186.156 & 100\\\\\n",
       "\t  200 & 188 & 2 & 0.8 & 186.156 &  80\\\\\n",
       "\t ⋮ & ⋮ & ⋮ & ⋮ & ⋮ & ⋮\\\\\n",
       "\t  667 & 178 & 2 & 0.4545455 & 186.156 & 45.45455\\\\\n",
       "\t 2320 & 188 & 3 & 0.7000000 & 186.156 & 70.00000\\\\\n",
       "\t  667 & 178 & 0 & 0.3636364 & 186.156 & 36.36364\\\\\n",
       "\\end{tabular}\n"
      ],
      "text/markdown": [
       "\n",
       "A tibble: 7646 × 6\n",
       "\n",
       "| rank_points &lt;dbl&gt; | height &lt;dbl&gt; | double_faults &lt;dbl&gt; | bpratio &lt;dbl&gt; | mean_ht &lt;dbl&gt; | bp_percent &lt;dbl&gt; |\n",
       "|---|---|---|---|---|---|\n",
       "| 3590 | 178 | 3 | 0.5 | 186.156 |  50 |\n",
       "| 3590 | 178 | 2 | 1.0 | 186.156 | 100 |\n",
       "|  200 | 188 | 2 | 0.8 | 186.156 |  80 |\n",
       "| ⋮ | ⋮ | ⋮ | ⋮ | ⋮ | ⋮ |\n",
       "|  667 | 178 | 2 | 0.4545455 | 186.156 | 45.45455 |\n",
       "| 2320 | 188 | 3 | 0.7000000 | 186.156 | 70.00000 |\n",
       "|  667 | 178 | 0 | 0.3636364 | 186.156 | 36.36364 |\n",
       "\n"
      ],
      "text/plain": [
       "     rank_points height double_faults bpratio   mean_ht bp_percent\n",
       "1    3590        178    3             0.5       186.156  50       \n",
       "2    3590        178    2             1.0       186.156 100       \n",
       "3     200        188    2             0.8       186.156  80       \n",
       "⋮    ⋮           ⋮      ⋮             ⋮         ⋮       ⋮         \n",
       "7644  667        178    2             0.4545455 186.156 45.45455  \n",
       "7645 2320        188    3             0.7000000 186.156 70.00000  \n",
       "7646  667        178    0             0.3636364 186.156 36.36364  "
      ]
     },
     "metadata": {},
     "output_type": "display_data"
    }
   ],
   "source": [
    "#linearizing data\n",
    "player_data_l <- player_data |>\n",
    "    summarize(player_data, mean_ht = mean(height)) |>\n",
    "    mutate(bp_percent = bpratio*100)\n",
    "player_data_l"
   ]
  },
  {
   "cell_type": "code",
   "execution_count": 68,
   "id": "ae07d06c-cf68-4af5-86f8-0d26baf28101",
   "metadata": {},
   "outputs": [],
   "source": [
    "#splitting data\n",
    "player_split <- initial_split(player_data_l, prop = .75, strata = rank_points)  \n",
    "player_train <- training(player_split)\n",
    "player_test <- testing(player_split)"
   ]
  },
  {
   "cell_type": "code",
   "execution_count": 72,
   "id": "4115501f-7ada-429b-aa8c-b00adae63543",
   "metadata": {},
   "outputs": [
    {
     "data": {
      "text/plain": [
       "══ Workflow [trained] ══════════════════════════════════════════════════════════\n",
       "\u001b[3mPreprocessor:\u001b[23m Recipe\n",
       "\u001b[3mModel:\u001b[23m linear_reg()\n",
       "\n",
       "── Preprocessor ────────────────────────────────────────────────────────────────\n",
       "0 Recipe Steps\n",
       "\n",
       "── Model ───────────────────────────────────────────────────────────────────────\n",
       "\n",
       "Call:\n",
       "stats::lm(formula = ..y ~ ., data = data)\n",
       "\n",
       "Coefficients:\n",
       "  (Intercept)         height     bp_percent  double_faults  \n",
       "    -2839.938         22.263          8.226        -35.457  \n"
      ]
     },
     "metadata": {},
     "output_type": "display_data"
    }
   ],
   "source": [
    "#model\n",
    "lm_spec <- linear_reg() |>\n",
    "    set_engine(\"lm\") |>\n",
    "    set_mode(\"regression\")\n",
    "\n",
    "#recipe\n",
    "player_recipe <- recipe(rank_points ~ height + bp_percent + double_faults, data = player_train)\n",
    "\n",
    "\n",
    "workflow <- workflow() |>\n",
    "    add_recipe(player_recipe) |>\n",
    "    add_model(lm_spec) |>\n",
    "    fit(player_train)\n",
    "workflow"
   ]
  },
  {
   "cell_type": "code",
   "execution_count": null,
   "id": "e13628f3-c919-4cbc-8da7-6fbe9a86b344",
   "metadata": {},
   "outputs": [],
   "source": []
  }
 ],
 "metadata": {
  "kernelspec": {
   "display_name": "R",
   "language": "R",
   "name": "ir"
  },
  "language_info": {
   "codemirror_mode": "r",
   "file_extension": ".r",
   "mimetype": "text/x-r-source",
   "name": "R",
   "pygments_lexer": "r",
   "version": "4.1.3"
  }
 },
 "nbformat": 4,
 "nbformat_minor": 5
}
