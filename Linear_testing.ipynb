{
 "cells": [
  {
   "cell_type": "code",
   "execution_count": 1,
   "id": "8afe87f9-8f25-4b52-a724-9c6970e4b174",
   "metadata": {},
   "outputs": [
    {
     "name": "stderr",
     "output_type": "stream",
     "text": [
      "── \u001b[1mAttaching packages\u001b[22m ─────────────────────────────────────── tidyverse 1.3.1 ──\n",
      "\n",
      "\u001b[32m✔\u001b[39m \u001b[34mggplot2\u001b[39m 3.3.6     \u001b[32m✔\u001b[39m \u001b[34mpurrr  \u001b[39m 0.3.4\n",
      "\u001b[32m✔\u001b[39m \u001b[34mtibble \u001b[39m 3.1.7     \u001b[32m✔\u001b[39m \u001b[34mdplyr  \u001b[39m 1.0.9\n",
      "\u001b[32m✔\u001b[39m \u001b[34mtidyr  \u001b[39m 1.2.0     \u001b[32m✔\u001b[39m \u001b[34mstringr\u001b[39m 1.4.0\n",
      "\u001b[32m✔\u001b[39m \u001b[34mreadr  \u001b[39m 2.1.2     \u001b[32m✔\u001b[39m \u001b[34mforcats\u001b[39m 0.5.1\n",
      "\n",
      "── \u001b[1mConflicts\u001b[22m ────────────────────────────────────────── tidyverse_conflicts() ──\n",
      "\u001b[31m✖\u001b[39m \u001b[34mdplyr\u001b[39m::\u001b[32mfilter()\u001b[39m masks \u001b[34mstats\u001b[39m::filter()\n",
      "\u001b[31m✖\u001b[39m \u001b[34mdplyr\u001b[39m::\u001b[32mlag()\u001b[39m    masks \u001b[34mstats\u001b[39m::lag()\n",
      "\n",
      "── \u001b[1mAttaching packages\u001b[22m ────────────────────────────────────── tidymodels 1.0.0 ──\n",
      "\n",
      "\u001b[32m✔\u001b[39m \u001b[34mbroom       \u001b[39m 1.0.0     \u001b[32m✔\u001b[39m \u001b[34mrsample     \u001b[39m 1.0.0\n",
      "\u001b[32m✔\u001b[39m \u001b[34mdials       \u001b[39m 1.0.0     \u001b[32m✔\u001b[39m \u001b[34mtune        \u001b[39m 1.0.0\n",
      "\u001b[32m✔\u001b[39m \u001b[34minfer       \u001b[39m 1.0.2     \u001b[32m✔\u001b[39m \u001b[34mworkflows   \u001b[39m 1.0.0\n",
      "\u001b[32m✔\u001b[39m \u001b[34mmodeldata   \u001b[39m 1.0.0     \u001b[32m✔\u001b[39m \u001b[34mworkflowsets\u001b[39m 1.0.0\n",
      "\u001b[32m✔\u001b[39m \u001b[34mparsnip     \u001b[39m 1.0.0     \u001b[32m✔\u001b[39m \u001b[34myardstick   \u001b[39m 1.0.0\n",
      "\u001b[32m✔\u001b[39m \u001b[34mrecipes     \u001b[39m 1.0.1     \n",
      "\n",
      "── \u001b[1mConflicts\u001b[22m ───────────────────────────────────────── tidymodels_conflicts() ──\n",
      "\u001b[31m✖\u001b[39m \u001b[34mscales\u001b[39m::\u001b[32mdiscard()\u001b[39m masks \u001b[34mpurrr\u001b[39m::discard()\n",
      "\u001b[31m✖\u001b[39m \u001b[34mdplyr\u001b[39m::\u001b[32mfilter()\u001b[39m   masks \u001b[34mstats\u001b[39m::filter()\n",
      "\u001b[31m✖\u001b[39m \u001b[34mrecipes\u001b[39m::\u001b[32mfixed()\u001b[39m  masks \u001b[34mstringr\u001b[39m::fixed()\n",
      "\u001b[31m✖\u001b[39m \u001b[34mdplyr\u001b[39m::\u001b[32mlag()\u001b[39m      masks \u001b[34mstats\u001b[39m::lag()\n",
      "\u001b[31m✖\u001b[39m \u001b[34myardstick\u001b[39m::\u001b[32mspec()\u001b[39m masks \u001b[34mreadr\u001b[39m::spec()\n",
      "\u001b[31m✖\u001b[39m \u001b[34mrecipes\u001b[39m::\u001b[32mstep()\u001b[39m   masks \u001b[34mstats\u001b[39m::step()\n",
      "\u001b[34m•\u001b[39m Learn how to get started at \u001b[32mhttps://www.tidymodels.org/start/\u001b[39m\n",
      "\n"
     ]
    }
   ],
   "source": [
    "#loading libraries\n",
    "library(tidyverse)\n",
    "library(repr)\n",
    "library(tidymodels)\n",
    "options(repr.matrix.max.rows = 6)"
   ]
  },
  {
   "cell_type": "code",
   "execution_count": 2,
   "id": "dff7e538-d92b-4482-a861-280522b07fbd",
   "metadata": {},
   "outputs": [
    {
     "name": "stderr",
     "output_type": "stream",
     "text": [
      "\u001b[1m\u001b[22mNew names:\n",
      "\u001b[36m•\u001b[39m `` -> `...1`\n"
     ]
    }
   ],
   "source": [
    "tennis_data <- read_csv(\"tennis_data.csv\", show_col_types = FALSE)"
   ]
  },
  {
   "cell_type": "code",
   "execution_count": 3,
   "id": "837af025-793f-465e-ab9c-1ef94dcc253a",
   "metadata": {},
   "outputs": [
    {
     "data": {
      "text/html": [
       "<table class=\"dataframe\">\n",
       "<caption>A tibble: 7646 × 4</caption>\n",
       "<thead>\n",
       "\t<tr><th scope=col>rank_points</th><th scope=col>height</th><th scope=col>double_faults</th><th scope=col>bpratio</th></tr>\n",
       "\t<tr><th scope=col>&lt;dbl&gt;</th><th scope=col>&lt;dbl&gt;</th><th scope=col>&lt;dbl&gt;</th><th scope=col>&lt;dbl&gt;</th></tr>\n",
       "</thead>\n",
       "<tbody>\n",
       "\t<tr><td>3590</td><td>178</td><td>3</td><td>0.5</td></tr>\n",
       "\t<tr><td>3590</td><td>178</td><td>2</td><td>1.0</td></tr>\n",
       "\t<tr><td> 200</td><td>188</td><td>2</td><td>0.8</td></tr>\n",
       "\t<tr><td>⋮</td><td>⋮</td><td>⋮</td><td>⋮</td></tr>\n",
       "\t<tr><td> 667</td><td>178</td><td>2</td><td>0.4545455</td></tr>\n",
       "\t<tr><td>2320</td><td>188</td><td>3</td><td>0.7000000</td></tr>\n",
       "\t<tr><td> 667</td><td>178</td><td>0</td><td>0.3636364</td></tr>\n",
       "</tbody>\n",
       "</table>\n"
      ],
      "text/latex": [
       "A tibble: 7646 × 4\n",
       "\\begin{tabular}{llll}\n",
       " rank\\_points & height & double\\_faults & bpratio\\\\\n",
       " <dbl> & <dbl> & <dbl> & <dbl>\\\\\n",
       "\\hline\n",
       "\t 3590 & 178 & 3 & 0.5\\\\\n",
       "\t 3590 & 178 & 2 & 1.0\\\\\n",
       "\t  200 & 188 & 2 & 0.8\\\\\n",
       "\t ⋮ & ⋮ & ⋮ & ⋮\\\\\n",
       "\t  667 & 178 & 2 & 0.4545455\\\\\n",
       "\t 2320 & 188 & 3 & 0.7000000\\\\\n",
       "\t  667 & 178 & 0 & 0.3636364\\\\\n",
       "\\end{tabular}\n"
      ],
      "text/markdown": [
       "\n",
       "A tibble: 7646 × 4\n",
       "\n",
       "| rank_points &lt;dbl&gt; | height &lt;dbl&gt; | double_faults &lt;dbl&gt; | bpratio &lt;dbl&gt; |\n",
       "|---|---|---|---|\n",
       "| 3590 | 178 | 3 | 0.5 |\n",
       "| 3590 | 178 | 2 | 1.0 |\n",
       "|  200 | 188 | 2 | 0.8 |\n",
       "| ⋮ | ⋮ | ⋮ | ⋮ |\n",
       "|  667 | 178 | 2 | 0.4545455 |\n",
       "| 2320 | 188 | 3 | 0.7000000 |\n",
       "|  667 | 178 | 0 | 0.3636364 |\n",
       "\n"
      ],
      "text/plain": [
       "     rank_points height double_faults bpratio  \n",
       "1    3590        178    3             0.5      \n",
       "2    3590        178    2             1.0      \n",
       "3     200        188    2             0.8      \n",
       "⋮    ⋮           ⋮      ⋮             ⋮        \n",
       "7644  667        178    2             0.4545455\n",
       "7645 2320        188    3             0.7000000\n",
       "7646  667        178    0             0.3636364"
      ]
     },
     "metadata": {},
     "output_type": "display_data"
    }
   ],
   "source": [
    "#prepping data\n",
    "set.seed(4673)\n",
    "\n",
    "winner_data <- tennis_data |> select(winner_rank_points, winner_ht, w_df, w_bpSaved, w_bpFaced) |> \n",
    "    filter(w_bpSaved != 0) |> filter(w_bpFaced != 0) |> mutate(bpratio = w_bpSaved/w_bpFaced) |> na.omit() |>\n",
    "    rename(rank_points = winner_rank_points, height = winner_ht, double_faults = w_df) |>\n",
    "    select(-w_bpSaved, -w_bpFaced)\n",
    "loser_data <- tennis_data |> select(loser_rank_points, loser_ht, l_df, l_bpSaved, l_bpFaced) |> \n",
    "    filter(l_bpSaved != 0) |> filter(l_bpFaced != 0) |> mutate(bpratio = l_bpSaved/l_bpFaced) |> na.omit() |>\n",
    "    rename(rank_points = loser_rank_points, height = loser_ht, double_faults = l_df) |>\n",
    "    select(-l_bpSaved, -l_bpFaced)\n",
    "\n",
    "player_data <- rbind(winner_data, loser_data)\n",
    "player_data"
   ]
  },
  {
   "cell_type": "code",
   "execution_count": 35,
   "id": "f90957bb-8c3b-4d3f-b179-c63f3dc7c14f",
   "metadata": {},
   "outputs": [
    {
     "data": {
      "text/html": [
       "<table class=\"dataframe\">\n",
       "<caption>A tibble: 7646 × 6</caption>\n",
       "<thead>\n",
       "\t<tr><th scope=col>rank_points</th><th scope=col>height</th><th scope=col>double_faults</th><th scope=col>bpratio</th><th scope=col>bp_percent</th><th scope=col>height_difference</th></tr>\n",
       "\t<tr><th scope=col>&lt;dbl&gt;</th><th scope=col>&lt;dbl&gt;</th><th scope=col>&lt;dbl&gt;</th><th scope=col>&lt;dbl&gt;</th><th scope=col>&lt;dbl&gt;</th><th scope=col>&lt;dbl&gt;</th></tr>\n",
       "</thead>\n",
       "<tbody>\n",
       "\t<tr><td>3590</td><td>178</td><td>3</td><td>0.5</td><td> 50</td><td>-8.156029</td></tr>\n",
       "\t<tr><td>3590</td><td>178</td><td>2</td><td>1.0</td><td>100</td><td>-8.156029</td></tr>\n",
       "\t<tr><td> 200</td><td>188</td><td>2</td><td>0.8</td><td> 80</td><td> 1.843971</td></tr>\n",
       "\t<tr><td>⋮</td><td>⋮</td><td>⋮</td><td>⋮</td><td>⋮</td><td>⋮</td></tr>\n",
       "\t<tr><td> 667</td><td>178</td><td>2</td><td>0.4545455</td><td>45.45455</td><td>-8.156029</td></tr>\n",
       "\t<tr><td>2320</td><td>188</td><td>3</td><td>0.7000000</td><td>70.00000</td><td> 1.843971</td></tr>\n",
       "\t<tr><td> 667</td><td>178</td><td>0</td><td>0.3636364</td><td>36.36364</td><td>-8.156029</td></tr>\n",
       "</tbody>\n",
       "</table>\n"
      ],
      "text/latex": [
       "A tibble: 7646 × 6\n",
       "\\begin{tabular}{llllll}\n",
       " rank\\_points & height & double\\_faults & bpratio & bp\\_percent & height\\_difference\\\\\n",
       " <dbl> & <dbl> & <dbl> & <dbl> & <dbl> & <dbl>\\\\\n",
       "\\hline\n",
       "\t 3590 & 178 & 3 & 0.5 &  50 & -8.156029\\\\\n",
       "\t 3590 & 178 & 2 & 1.0 & 100 & -8.156029\\\\\n",
       "\t  200 & 188 & 2 & 0.8 &  80 &  1.843971\\\\\n",
       "\t ⋮ & ⋮ & ⋮ & ⋮ & ⋮ & ⋮\\\\\n",
       "\t  667 & 178 & 2 & 0.4545455 & 45.45455 & -8.156029\\\\\n",
       "\t 2320 & 188 & 3 & 0.7000000 & 70.00000 &  1.843971\\\\\n",
       "\t  667 & 178 & 0 & 0.3636364 & 36.36364 & -8.156029\\\\\n",
       "\\end{tabular}\n"
      ],
      "text/markdown": [
       "\n",
       "A tibble: 7646 × 6\n",
       "\n",
       "| rank_points &lt;dbl&gt; | height &lt;dbl&gt; | double_faults &lt;dbl&gt; | bpratio &lt;dbl&gt; | bp_percent &lt;dbl&gt; | height_difference &lt;dbl&gt; |\n",
       "|---|---|---|---|---|---|\n",
       "| 3590 | 178 | 3 | 0.5 |  50 | -8.156029 |\n",
       "| 3590 | 178 | 2 | 1.0 | 100 | -8.156029 |\n",
       "|  200 | 188 | 2 | 0.8 |  80 |  1.843971 |\n",
       "| ⋮ | ⋮ | ⋮ | ⋮ | ⋮ | ⋮ |\n",
       "|  667 | 178 | 2 | 0.4545455 | 45.45455 | -8.156029 |\n",
       "| 2320 | 188 | 3 | 0.7000000 | 70.00000 |  1.843971 |\n",
       "|  667 | 178 | 0 | 0.3636364 | 36.36364 | -8.156029 |\n",
       "\n"
      ],
      "text/plain": [
       "     rank_points height double_faults bpratio   bp_percent height_difference\n",
       "1    3590        178    3             0.5        50        -8.156029        \n",
       "2    3590        178    2             1.0       100        -8.156029        \n",
       "3     200        188    2             0.8        80         1.843971        \n",
       "⋮    ⋮           ⋮      ⋮             ⋮         ⋮          ⋮                \n",
       "7644  667        178    2             0.4545455 45.45455   -8.156029        \n",
       "7645 2320        188    3             0.7000000 70.00000    1.843971        \n",
       "7646  667        178    0             0.3636364 36.36364   -8.156029        "
      ]
     },
     "metadata": {},
     "output_type": "display_data"
    }
   ],
   "source": [
    "#adjusting data\n",
    "mean_height <- summarize(player_data, mean_ht = mean(height))\n",
    "player_data_a <- player_data |>\n",
    "    mutate(bp_percent = bpratio*100) |>\n",
    "    mutate(mean_height, height_difference = height - mean_ht) |>\n",
    "    select(-mean_ht)\n",
    "player_data_a"
   ]
  },
  {
   "cell_type": "code",
   "execution_count": 16,
   "id": "ae07d06c-cf68-4af5-86f8-0d26baf28101",
   "metadata": {},
   "outputs": [],
   "source": [
    "#splitting data\n",
    "set.seed(7893)\n",
    "player_split <- initial_split(player_data_a, prop = .75, strata = rank_points)  \n",
    "player_train <- training(player_split)\n",
    "player_test <- testing(player_split)"
   ]
  },
  {
   "cell_type": "code",
   "execution_count": 31,
   "id": "4115501f-7ada-429b-aa8c-b00adae63543",
   "metadata": {},
   "outputs": [
    {
     "data": {
      "text/plain": [
       "══ Workflow [trained] ══════════════════════════════════════════════════════════\n",
       "\u001b[3mPreprocessor:\u001b[23m Recipe\n",
       "\u001b[3mModel:\u001b[23m linear_reg()\n",
       "\n",
       "── Preprocessor ────────────────────────────────────────────────────────────────\n",
       "0 Recipe Steps\n",
       "\n",
       "── Model ───────────────────────────────────────────────────────────────────────\n",
       "\n",
       "Call:\n",
       "stats::lm(formula = ..y ~ ., data = data)\n",
       "\n",
       "Coefficients:\n",
       "      (Intercept)      double_faults  height_difference         bp_percent  \n",
       "         1333.633            -42.542             25.229              8.158  \n"
      ]
     },
     "metadata": {},
     "output_type": "display_data"
    }
   ],
   "source": [
    "#model\n",
    "lm_spec <- linear_reg() |>\n",
    "    set_engine(\"lm\") |>\n",
    "    set_mode(\"regression\")\n",
    "\n",
    "#recipe\n",
    "player_recipe <- recipe(rank_points ~ double_faults + height_difference + bp_percent, data = player_train)\n",
    "\n",
    "\n",
    "workflow <- workflow() |>\n",
    "    add_recipe(player_recipe) |>\n",
    "    add_model(lm_spec) |>\n",
    "    fit(player_train)\n",
    "workflow"
   ]
  },
  {
   "cell_type": "code",
   "execution_count": 29,
   "id": "e13628f3-c919-4cbc-8da7-6fbe9a86b344",
   "metadata": {},
   "outputs": [
    {
     "data": {
      "text/html": [
       "<table class=\"dataframe\">\n",
       "<caption>A tibble: 1 × 3</caption>\n",
       "<thead>\n",
       "\t<tr><th scope=col>.metric</th><th scope=col>.estimator</th><th scope=col>.estimate</th></tr>\n",
       "\t<tr><th scope=col>&lt;chr&gt;</th><th scope=col>&lt;chr&gt;</th><th scope=col>&lt;dbl&gt;</th></tr>\n",
       "</thead>\n",
       "<tbody>\n",
       "\t<tr><td>rmse</td><td>standard</td><td>1787.156</td></tr>\n",
       "</tbody>\n",
       "</table>\n"
      ],
      "text/latex": [
       "A tibble: 1 × 3\n",
       "\\begin{tabular}{lll}\n",
       " .metric & .estimator & .estimate\\\\\n",
       " <chr> & <chr> & <dbl>\\\\\n",
       "\\hline\n",
       "\t rmse & standard & 1787.156\\\\\n",
       "\\end{tabular}\n"
      ],
      "text/markdown": [
       "\n",
       "A tibble: 1 × 3\n",
       "\n",
       "| .metric &lt;chr&gt; | .estimator &lt;chr&gt; | .estimate &lt;dbl&gt; |\n",
       "|---|---|---|\n",
       "| rmse | standard | 1787.156 |\n",
       "\n"
      ],
      "text/plain": [
       "  .metric .estimator .estimate\n",
       "1 rmse    standard   1787.156 "
      ]
     },
     "metadata": {},
     "output_type": "display_data"
    }
   ],
   "source": [
    "#RMSE\n",
    "#stats: w/abs diff: 1782.172, wo/abs diff: 1779.149, df+bp: 1789.681, ht+bp: 1782.217, ht+df: 1787.156, \n",
    "\n",
    "lm_test_results <- workflow |>\n",
    "    predict(player_train) |>\n",
    "    bind_cols(player_train) |>\n",
    "    metrics(truth = rank_points, estimate = .pred) |>\n",
    "    filter(.metric == \"rmse\")\n",
    "lm_test_results"
   ]
  }
 ],
 "metadata": {
  "kernelspec": {
   "display_name": "R",
   "language": "R",
   "name": "ir"
  },
  "language_info": {
   "codemirror_mode": "r",
   "file_extension": ".r",
   "mimetype": "text/x-r-source",
   "name": "R",
   "pygments_lexer": "r",
   "version": "4.1.3"
  }
 },
 "nbformat": 4,
 "nbformat_minor": 5
}
