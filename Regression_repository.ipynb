{
 "cells": [
  {
   "cell_type": "code",
   "execution_count": 1,
   "id": "a8d2ab29-8349-4ef5-bea9-4dbc9570480f",
   "metadata": {},
   "outputs": [
    {
     "name": "stderr",
     "output_type": "stream",
     "text": [
      "── \u001b[1mAttaching packages\u001b[22m ─────────────────────────────────────── tidyverse 1.3.1 ──\n",
      "\n",
      "\u001b[32m✔\u001b[39m \u001b[34mggplot2\u001b[39m 3.3.6     \u001b[32m✔\u001b[39m \u001b[34mpurrr  \u001b[39m 0.3.4\n",
      "\u001b[32m✔\u001b[39m \u001b[34mtibble \u001b[39m 3.1.7     \u001b[32m✔\u001b[39m \u001b[34mdplyr  \u001b[39m 1.0.9\n",
      "\u001b[32m✔\u001b[39m \u001b[34mtidyr  \u001b[39m 1.2.0     \u001b[32m✔\u001b[39m \u001b[34mstringr\u001b[39m 1.4.0\n",
      "\u001b[32m✔\u001b[39m \u001b[34mreadr  \u001b[39m 2.1.2     \u001b[32m✔\u001b[39m \u001b[34mforcats\u001b[39m 0.5.1\n",
      "\n",
      "── \u001b[1mConflicts\u001b[22m ────────────────────────────────────────── tidyverse_conflicts() ──\n",
      "\u001b[31m✖\u001b[39m \u001b[34mdplyr\u001b[39m::\u001b[32mfilter()\u001b[39m masks \u001b[34mstats\u001b[39m::filter()\n",
      "\u001b[31m✖\u001b[39m \u001b[34mdplyr\u001b[39m::\u001b[32mlag()\u001b[39m    masks \u001b[34mstats\u001b[39m::lag()\n",
      "\n",
      "── \u001b[1mAttaching packages\u001b[22m ────────────────────────────────────── tidymodels 1.0.0 ──\n",
      "\n",
      "\u001b[32m✔\u001b[39m \u001b[34mbroom       \u001b[39m 1.0.0     \u001b[32m✔\u001b[39m \u001b[34mrsample     \u001b[39m 1.0.0\n",
      "\u001b[32m✔\u001b[39m \u001b[34mdials       \u001b[39m 1.0.0     \u001b[32m✔\u001b[39m \u001b[34mtune        \u001b[39m 1.0.0\n",
      "\u001b[32m✔\u001b[39m \u001b[34minfer       \u001b[39m 1.0.2     \u001b[32m✔\u001b[39m \u001b[34mworkflows   \u001b[39m 1.0.0\n",
      "\u001b[32m✔\u001b[39m \u001b[34mmodeldata   \u001b[39m 1.0.0     \u001b[32m✔\u001b[39m \u001b[34mworkflowsets\u001b[39m 1.0.0\n",
      "\u001b[32m✔\u001b[39m \u001b[34mparsnip     \u001b[39m 1.0.0     \u001b[32m✔\u001b[39m \u001b[34myardstick   \u001b[39m 1.0.0\n",
      "\u001b[32m✔\u001b[39m \u001b[34mrecipes     \u001b[39m 1.0.1     \n",
      "\n",
      "── \u001b[1mConflicts\u001b[22m ───────────────────────────────────────── tidymodels_conflicts() ──\n",
      "\u001b[31m✖\u001b[39m \u001b[34mscales\u001b[39m::\u001b[32mdiscard()\u001b[39m masks \u001b[34mpurrr\u001b[39m::discard()\n",
      "\u001b[31m✖\u001b[39m \u001b[34mdplyr\u001b[39m::\u001b[32mfilter()\u001b[39m   masks \u001b[34mstats\u001b[39m::filter()\n",
      "\u001b[31m✖\u001b[39m \u001b[34mrecipes\u001b[39m::\u001b[32mfixed()\u001b[39m  masks \u001b[34mstringr\u001b[39m::fixed()\n",
      "\u001b[31m✖\u001b[39m \u001b[34mdplyr\u001b[39m::\u001b[32mlag()\u001b[39m      masks \u001b[34mstats\u001b[39m::lag()\n",
      "\u001b[31m✖\u001b[39m \u001b[34myardstick\u001b[39m::\u001b[32mspec()\u001b[39m masks \u001b[34mreadr\u001b[39m::spec()\n",
      "\u001b[31m✖\u001b[39m \u001b[34mrecipes\u001b[39m::\u001b[32mstep()\u001b[39m   masks \u001b[34mstats\u001b[39m::step()\n",
      "\u001b[34m•\u001b[39m Learn how to get started at \u001b[32mhttps://www.tidymodels.org/start/\u001b[39m\n",
      "\n"
     ]
    }
   ],
   "source": [
    "#loading libraries\n",
    "library(tidyverse)\n",
    "library(repr)\n",
    "library(tidymodels)\n",
    "options(repr.matrix.max.rows = 6)"
   ]
  },
  {
   "cell_type": "code",
   "execution_count": 2,
   "id": "e2d2e3ba-4b9f-4f89-83d0-a55e31a91b65",
   "metadata": {},
   "outputs": [
    {
     "name": "stderr",
     "output_type": "stream",
     "text": [
      "\u001b[1m\u001b[22mNew names:\n",
      "\u001b[36m•\u001b[39m `` -> `...1`\n"
     ]
    }
   ],
   "source": [
    "#loading data\n",
    "\n",
    "download.file(\"https://drive.google.com/uc?export=download&id=1fOQ8sy_qMkQiQEAO6uFdRX4tLI8EpSTn\", \"tennis_data.csv\")\n",
    "tennis_data <- read_csv(\"tennis_data.csv\", show_col_types = FALSE)\n",
    "#tennis_data"
   ]
  },
  {
   "cell_type": "code",
   "execution_count": 3,
   "id": "02af64a6-0d84-42d0-a45b-cadaf3e34248",
   "metadata": {},
   "outputs": [
    {
     "ename": "ERROR",
     "evalue": "\u001b[1m\u001b[33mError\u001b[39m in \u001b[1m\u001b[1m`chr_as_locations()`:\u001b[22m\n\u001b[33m!\u001b[39m Can't subset columns that don't exist.\n\u001b[31m✖\u001b[39m Column `winner_rank_points` doesn't exist.\n",
     "output_type": "error",
     "traceback": [
      "\u001b[1m\u001b[33mError\u001b[39m in \u001b[1m\u001b[1m`chr_as_locations()`:\u001b[22m\n\u001b[33m!\u001b[39m Can't subset columns that don't exist.\n\u001b[31m✖\u001b[39m Column `winner_rank_points` doesn't exist.\nTraceback:\n",
      "1. initial_split(winner_data, prop = 0.75, strata = winner_rank_points)",
      "2. mc_cv(data = data, prop = prop, strata = {\n .     {\n .         strata\n .     }\n . }, breaks = breaks, pool = pool, times = 1, ...)",
      "3. tidyselect::vars_select(names(data), !!enquo(strata))",
      "4. eval_select_impl(NULL, .vars, expr(c(!!!dots)), include = .include, \n .     exclude = .exclude, strict = .strict, name_spec = unique_name_spec, \n .     uniquely_named = TRUE, error_call = caller_env())",
      "5. with_subscript_errors(vars_select_eval(vars, expr, strict = strict, \n .     data = x, name_spec = name_spec, uniquely_named = uniquely_named, \n .     allow_rename = allow_rename, type = type, error_call = error_call), \n .     type = type)",
      "6. tryCatch(with_entraced_errors(expr), vctrs_error_subscript = function(cnd) {\n .     cnd$subscript_action <- subscript_action(type)\n .     cnd$subscript_elt <- \"column\"\n .     cnd_signal(cnd)\n . })",
      "7. tryCatchList(expr, classes, parentenv, handlers)",
      "8. tryCatchOne(expr, names, parentenv, handlers[[1L]])",
      "9. value[[3L]](cond)",
      "10. cnd_signal(cnd)",
      "11. signal_abort(cnd)"
     ]
    }
   ],
   "source": [
    "#prepping data\n",
    "set.seed(2132)\n",
    "\n",
    "winner_data <- tennis_data |> select() |> na.omit()\n",
    "loser_data <-  tennis_data |> select() |> na.omit()\n",
    "\n",
    "winner_split <- initial_split(winner_data, prop = .75, strata = winner_rank_points)  \n",
    "winner_train <- training(winner_split)\n",
    "winner_test <- testing(winner_split)\n",
    "#winner_train\n",
    "\n",
    "loser_split <- initial_split(loser_data, prop = .75, strata = loser_rank_points)  \n",
    "loser_train <- training(loser_split)\n",
    "loser_test <- testing(loser_split)\n",
    "#loser_train"
   ]
  },
  {
   "cell_type": "code",
   "execution_count": null,
   "id": "76168d34-bacd-49e9-abd2-fad0e8a00289",
   "metadata": {},
   "outputs": [],
   "source": [
    "# testing/tuning winner regression\n",
    "# best k = 540 - v = 5 mean = 2078.592\n",
    "set.seed(5342)\n",
    "\n",
    "win_recipe <- recipe(winner_rank_points ~ winner_ht, data = winner_train) |>\n",
    "    step_scale(all_predictors()) |>\n",
    "    step_center(all_predictors())\n",
    "\n",
    "win_spec <- nearest_neighbor(weight_func = \"rectangular\", neighbors = tune()) |>\n",
    "    set_engine(\"kknn\") |>\n",
    "    set_mode(\"regression\")\n",
    "\n",
    "win_workflow <- workflow() |>\n",
    "    add_recipe(win_recipe) |>\n",
    "    add_model(win_spec)\n",
    "\n",
    "win_vfold <- vfold_cv(winner_train, v = 5, strata = winner_rank_points)\n",
    "gridvals <- tibble(neighbors = seq(from = 535, to = 545, by = 1))\n",
    "\n",
    "win_results <- win_workflow |>\n",
    "    tune_grid(resamples = win_vfold, grid = gridvals) |>\n",
    "    collect_metrics() |>\n",
    "    filter(.metric == \"rmse\")\n",
    "\n",
    "win_min <- win_results |>\n",
    "    filter(mean == min(mean))\n",
    "# win_min\n",
    "\n",
    "# k_win_selec <- ggplot(win_results, aes(x = neighbors, y = mean)) + geom_point() + geom_line()\n",
    "# k_win_selec"
   ]
  },
  {
   "cell_type": "code",
   "execution_count": null,
   "id": "9926332e-eb30-4eee-a9f8-4fe24e4d4d33",
   "metadata": {},
   "outputs": [],
   "source": [
    "# testing/tuning loser regression\n",
    "# best k = 384 - v = 5 - mean = 1323.389\n",
    "set.seed(4892)\n",
    "\n",
    "lose_recipe <- recipe(loser_rank_points ~ loser_ht, data = loser_train) |>\n",
    "    step_scale(all_predictors()) |>\n",
    "    step_center(all_predictors())\n",
    "\n",
    "lose_spec <- nearest_neighbor(weight_func = \"rectangular\", neighbors = tune()) |>\n",
    "    set_engine(\"kknn\") |>\n",
    "    set_mode(\"regression\")\n",
    "\n",
    "lose_workflow <- workflow() |>\n",
    "    add_recipe(lose_recipe) |>\n",
    "    add_model(lose_spec)\n",
    "\n",
    "lose_vfold <- vfold_cv(loser_train, v = 5, strata = loser_rank_points)\n",
    "gridvals <- tibble(neighbors = seq(from = 370, to = 390, by = 1))\n",
    "\n",
    "lose_results <- lose_workflow |>\n",
    "    tune_grid(resamples = lose_vfold, grid = gridvals) |>\n",
    "    collect_metrics() |>\n",
    "    filter(.metric == \"rmse\")\n",
    "\n",
    "lose_min <- lose_results |>\n",
    "    filter(mean == min(mean))\n",
    "# lose_min\n",
    "\n",
    "# k_lose_selec <- ggplot(lose_results, aes(x = neighbors, y = mean)) + geom_point() + geom_line()\n",
    "# k_lose_selec"
   ]
  },
  {
   "cell_type": "code",
   "execution_count": null,
   "id": "b9df98f8-5d43-4791-a7f0-e2bf5938bd20",
   "metadata": {},
   "outputs": [],
   "source": [
    "# winner regression\n",
    "\n",
    "win_recipe <- recipe(winner_rank_points ~ winner_ht, data = winner_train) |>\n",
    "    step_scale(all_predictors()) |>\n",
    "    step_center(all_predictors())\n",
    "\n",
    "win_spec <- nearest_neighbor(weight_func = \"rectangular\", neighbors = 540) |>\n",
    "    set_engine(\"kknn\") |>\n",
    "    set_mode(\"regression\")\n",
    "\n",
    "win_workflow <- workflow() |>\n",
    "    add_recipe(win_recipe) |>\n",
    "    add_model(win_spec) |>\n",
    "    fit(data = winner_train)\n",
    "win_workflow"
   ]
  },
  {
   "cell_type": "code",
   "execution_count": null,
   "id": "8fb79e12-9903-46c2-9103-429459442a6e",
   "metadata": {},
   "outputs": [],
   "source": [
    "# loser regression\n",
    "\n",
    "lose_recipe <- recipe(loser_rank_points ~ loser_ht, data = loser_train) |>\n",
    "    step_scale(all_predictors()) |>\n",
    "    step_center(all_predictors())\n",
    "\n",
    "lose_spec <- nearest_neighbor(weight_func = \"rectangular\", neighbors = 384) |>\n",
    "    set_engine(\"kknn\") |>\n",
    "    set_mode(\"regression\")\n",
    "\n",
    "lose_workflow <- workflow() |>\n",
    "    add_recipe(lose_recipe) |>\n",
    "    add_model(lose_spec) |>\n",
    "    fit(data = loser_train)\n",
    "lose_workflow"
   ]
  }
 ],
 "metadata": {
  "kernelspec": {
   "display_name": "R",
   "language": "R",
   "name": "ir"
  },
  "language_info": {
   "codemirror_mode": "r",
   "file_extension": ".r",
   "mimetype": "text/x-r-source",
   "name": "R",
   "pygments_lexer": "r",
   "version": "4.1.3"
  }
 },
 "nbformat": 4,
 "nbformat_minor": 5
}
